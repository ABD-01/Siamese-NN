{
 "cells": [
  {
   "cell_type": "markdown",
   "metadata": {
    "heading_collapsed": true,
    "id": "Us1hP0a9Trxr"
   },
   "source": [
    "# Self-Supervision with FastAI\n",
    "> A tutorial of rotation-based self-supervision using FastAI2 & PyTorch!\n",
    "\n",
    "- toc: true \n",
    "- badges: true\n",
    "- comments: true\n",
    "- categories: [jupyter]\n",
    "- image: images/self-sup-rotation.png"
   ]
  },
  {
   "cell_type": "markdown",
   "metadata": {
    "ExecuteTime": {
     "end_time": "2020-03-23T14:49:40.997471Z",
     "start_time": "2020-03-23T14:49:40.985501Z"
    },
    "heading_collapsed": true,
    "id": "jOCxXuEpTrxw"
   },
   "source": [
    "# Introduction\n",
    "\n",
    "This notebook is an introduction to self-supervised learning. In short, self-supervised learning has 2 components:\n",
    "\n",
    "1. Pretrain on a pretext task, where the labels can come from the data itself!\n",
    "2. Transfer the features, and train on the actual classification labels!\n",
    "\n",
    ">\"What if we can get labels for free for unlabelled data and train unsupervised dataset in a supervised manner? We can achieve this by framing a supervised learning task in a special form to predict only a subset of information using the rest. In this way, all the information needed, both inputs and labels, has been provided. This is known as self-supervised learning.\" - Lilian Weng\n",
    "\n",
    "Using FastAI2, we'll use rotation as a pretext task for learning representations/features of our data. \n",
    "\n",
    "Here are some great overviews of self-supervised learning that I've come across:"
   ]
  },
  {
   "cell_type": "markdown",
   "metadata": {
    "ExecuteTime": {
     "end_time": "2020-03-23T14:49:40.997471Z",
     "start_time": "2020-03-23T14:49:40.985501Z"
    },
    "hidden": true,
    "id": "GXcHJC68Trxx"
   },
   "source": [
    "- [Lilian Weng - Self-Supervised Representation Learning](https://lilianweng.github.io/lil-log/2019/11/10/self-supervised-learning)\n",
    "\n",
    "- [Jeremy Howard - Self-supervised learning and computer vision](https://www.fast.ai/2020/01/13/self_supervised/)"
   ]
  },
  {
   "cell_type": "markdown",
   "metadata": {
    "id": "0bb547FdTrxx"
   },
   "source": [
    "# Experiment Layout"
   ]
  },
  {
   "cell_type": "markdown",
   "metadata": {
    "id": "XJ9e05yTTrxy"
   },
   "source": [
    "In this notebook, we will be using the [MNIST dataset](https://en.wikipedia.org/wiki/MNIST_database).\n",
    "\n",
    "Also check out [ImageWang](https://github.com/fastai/imagenette#image%E7%BD%91) from FastAI themselves! It's a dataset designed for self-supervision tasks!\n",
    "\n",
    "1. Train a model on a rotation prediction task.\n",
    "  - We will use *all* the training data for rotation prediction.\n",
    "  - Input: A rotated image.\n",
    "  - Target/Label: Classify the amount of degrees rotated.\n",
    "  - Our model should learn useful features that can transfer well for a classification task.\n",
    "  - (The model should learn what digits look like in order to be able to successfully predict the amount of rotation).\n",
    "\n",
    "2. Transfer our rotation pretraining features to solve the classification task with *much fewer* labels, < 1% of the original data.\n",
    "  - Input: A normal image.\n",
    "  - Target/Label: The images' *original* categorical label.\n",
    "  - Classification accuracy should be decent, even with only using < 1% of the original data.\n",
    "\n",
    "3. Train a classifier from scratch on the same amount of data used in experiment 2.\n",
    "  - Input: A normal image.\n",
    "  - Target/Label: The images' *original* categorical label.\n",
    "  - Classification accuracy should be low (lack of transfer learning & too few labeled data!)\n",
    "  - Model may overfit.  "
   ]
  },
  {
   "cell_type": "markdown",
   "metadata": {
    "id": "ywV2I3IhTrxy"
   },
   "source": [
    "# FastAI Vision Model Creation Methods"
   ]
  },
  {
   "cell_type": "markdown",
   "metadata": {
    "id": "H1Exth4vTrxz"
   },
   "source": [
    "> Warning: This Jupyter notebook runs with fastai2! Make sure you have it installed, use the cell below to install it :)"
   ]
  },
  {
   "cell_type": "code",
   "execution_count": 6,
   "metadata": {
    "ExecuteTime": {
     "end_time": "2021-03-10T22:05:13.201652Z",
     "start_time": "2021-03-10T22:04:58.559155Z"
    },
    "collapsed": true,
    "id": "GL6S4uRYTrx0"
   },
   "outputs": [
    {
     "name": "stdout",
     "output_type": "stream",
     "text": [
      "Collecting fastai\n",
      "  Downloading fastai-2.5.3-py3-none-any.whl (189 kB)\n",
      "Requirement already satisfied: torch<1.11,>=1.7.0 in c:\\users\\abdul\\projects\\projects\\lib\\site-packages (from fastai) (1.10.0+cu113)\n",
      "Requirement already satisfied: scipy in c:\\users\\abdul\\projects\\projects\\lib\\site-packages (from fastai) (1.7.2)\n",
      "Requirement already satisfied: pyyaml in c:\\users\\abdul\\projects\\projects\\lib\\site-packages (from fastai) (6.0)\n",
      "Requirement already satisfied: pillow>6.0.0 in c:\\users\\abdul\\projects\\projects\\lib\\site-packages (from fastai) (8.4.0)\n",
      "Collecting fastcore<1.4,>=1.3.22\n",
      "  Downloading fastcore-1.3.27-py3-none-any.whl (56 kB)\n",
      "Requirement already satisfied: matplotlib in c:\\users\\abdul\\projects\\projects\\lib\\site-packages (from fastai) (3.4.3)\n",
      "Requirement already satisfied: scikit-learn in c:\\users\\abdul\\projects\\projects\\lib\\site-packages (from fastai) (1.0.1)\n",
      "Collecting spacy<4\n",
      "  Downloading spacy-3.2.1-cp39-cp39-win_amd64.whl (11.8 MB)\n",
      "Requirement already satisfied: torchvision>=0.8.2 in c:\\users\\abdul\\projects\\projects\\lib\\site-packages (from fastai) (0.11.1+cu113)\n",
      "Collecting fastdownload<2,>=0.0.5\n",
      "  Downloading fastdownload-0.0.5-py3-none-any.whl (13 kB)\n",
      "Requirement already satisfied: packaging in c:\\users\\abdul\\projects\\projects\\lib\\site-packages (from fastai) (21.2)\n",
      "Collecting fastprogress>=0.2.4\n",
      "  Downloading fastprogress-1.0.0-py3-none-any.whl (12 kB)\n",
      "Requirement already satisfied: pandas in c:\\users\\abdul\\projects\\projects\\lib\\site-packages (from fastai) (1.3.4)\n",
      "Requirement already satisfied: pip in c:\\users\\abdul\\projects\\projects\\lib\\site-packages (from fastai) (21.3.1)\n",
      "Requirement already satisfied: requests in c:\\users\\abdul\\projects\\projects\\lib\\site-packages (from fastai) (2.26.0)\n",
      "Requirement already satisfied: numpy in c:\\users\\abdul\\projects\\projects\\lib\\site-packages (from fastprogress>=0.2.4->fastai) (1.21.4)\n",
      "Collecting catalogue<2.1.0,>=2.0.6\n",
      "  Downloading catalogue-2.0.6-py3-none-any.whl (17 kB)\n",
      "Collecting thinc<8.1.0,>=8.0.12\n",
      "  Downloading thinc-8.0.13-cp39-cp39-win_amd64.whl (1.0 MB)\n",
      "Requirement already satisfied: setuptools in c:\\users\\abdul\\projects\\projects\\lib\\site-packages (from spacy<4->fastai) (58.5.3)\n",
      "Collecting spacy-legacy<3.1.0,>=3.0.8\n",
      "  Downloading spacy_legacy-3.0.8-py2.py3-none-any.whl (14 kB)\n",
      "Collecting preshed<3.1.0,>=3.0.2\n",
      "  Downloading preshed-3.0.6-cp39-cp39-win_amd64.whl (112 kB)\n",
      "Collecting pydantic!=1.8,!=1.8.1,<1.9.0,>=1.7.4\n",
      "  Downloading pydantic-1.8.2-cp39-cp39-win_amd64.whl (1.9 MB)\n",
      "Collecting langcodes<4.0.0,>=3.2.0\n",
      "  Downloading langcodes-3.3.0-py3-none-any.whl (181 kB)\n",
      "Collecting pathy>=0.3.5\n",
      "  Downloading pathy-0.6.1-py3-none-any.whl (42 kB)\n",
      "Collecting cymem<2.1.0,>=2.0.2\n",
      "  Downloading cymem-2.0.6-cp39-cp39-win_amd64.whl (36 kB)\n",
      "Requirement already satisfied: tqdm<5.0.0,>=4.38.0 in c:\\users\\abdul\\projects\\projects\\lib\\site-packages (from spacy<4->fastai) (4.62.3)\n",
      "Collecting spacy-loggers<2.0.0,>=1.0.0\n",
      "  Downloading spacy_loggers-1.0.1-py3-none-any.whl (7.0 kB)\n",
      "Collecting wasabi<1.1.0,>=0.8.1\n",
      "  Downloading wasabi-0.9.0-py3-none-any.whl (25 kB)\n",
      "Collecting murmurhash<1.1.0,>=0.28.0\n",
      "  Downloading murmurhash-1.0.6-cp39-cp39-win_amd64.whl (21 kB)\n",
      "Collecting blis<0.8.0,>=0.4.0\n",
      "  Downloading blis-0.7.5-cp39-cp39-win_amd64.whl (6.6 MB)\n",
      "Collecting srsly<3.0.0,>=2.4.1\n",
      "  Downloading srsly-2.4.2-cp39-cp39-win_amd64.whl (451 kB)\n",
      "Requirement already satisfied: jinja2 in c:\\users\\abdul\\projects\\projects\\lib\\site-packages (from spacy<4->fastai) (3.0.2)\n",
      "Collecting typer<0.5.0,>=0.3.0\n",
      "  Downloading typer-0.4.0-py3-none-any.whl (27 kB)\n",
      "Requirement already satisfied: pyparsing<3,>=2.0.2 in c:\\users\\abdul\\projects\\projects\\lib\\site-packages (from packaging->fastai) (2.4.7)\n",
      "Requirement already satisfied: urllib3<1.27,>=1.21.1 in c:\\users\\abdul\\projects\\projects\\lib\\site-packages (from requests->fastai) (1.26.7)\n",
      "Requirement already satisfied: certifi>=2017.4.17 in c:\\users\\abdul\\projects\\projects\\lib\\site-packages (from requests->fastai) (2021.10.8)\n",
      "Requirement already satisfied: charset-normalizer~=2.0.0 in c:\\users\\abdul\\projects\\projects\\lib\\site-packages (from requests->fastai) (2.0.7)\n",
      "Requirement already satisfied: idna<4,>=2.5 in c:\\users\\abdul\\projects\\projects\\lib\\site-packages (from requests->fastai) (3.3)\n",
      "Requirement already satisfied: typing-extensions in c:\\users\\abdul\\projects\\projects\\lib\\site-packages (from torch<1.11,>=1.7.0->fastai) (3.10.0.2)\n",
      "Requirement already satisfied: cycler>=0.10 in c:\\users\\abdul\\projects\\projects\\lib\\site-packages (from matplotlib->fastai) (0.11.0)\n",
      "Requirement already satisfied: python-dateutil>=2.7 in c:\\users\\abdul\\projects\\projects\\lib\\site-packages (from matplotlib->fastai) (2.8.2)\n",
      "Requirement already satisfied: kiwisolver>=1.0.1 in c:\\users\\abdul\\projects\\projects\\lib\\site-packages (from matplotlib->fastai) (1.3.2)\n",
      "Requirement already satisfied: pytz>=2017.3 in c:\\users\\abdul\\projects\\projects\\lib\\site-packages (from pandas->fastai) (2021.3)\n",
      "Requirement already satisfied: joblib>=0.11 in c:\\users\\abdul\\projects\\projects\\lib\\site-packages (from scikit-learn->fastai) (1.1.0)\n",
      "Requirement already satisfied: threadpoolctl>=2.0.0 in c:\\users\\abdul\\projects\\projects\\lib\\site-packages (from scikit-learn->fastai) (3.0.0)\n",
      "Collecting smart-open<6.0.0,>=5.0.0\n",
      "  Downloading smart_open-5.2.1-py3-none-any.whl (58 kB)\n",
      "Requirement already satisfied: six>=1.5 in c:\\users\\abdul\\projects\\projects\\lib\\site-packages (from python-dateutil>=2.7->matplotlib->fastai) (1.16.0)\n",
      "Requirement already satisfied: colorama in c:\\users\\abdul\\projects\\projects\\lib\\site-packages (from tqdm<5.0.0,>=4.38.0->spacy<4->fastai) (0.4.4)\n",
      "Requirement already satisfied: click<9.0.0,>=7.1.1 in c:\\users\\abdul\\projects\\projects\\lib\\site-packages (from typer<0.5.0,>=0.3.0->spacy<4->fastai) (8.0.3)\n",
      "Requirement already satisfied: MarkupSafe>=2.0 in c:\\users\\abdul\\projects\\projects\\lib\\site-packages (from jinja2->spacy<4->fastai) (2.0.1)\n",
      "Installing collected packages: murmurhash, cymem, catalogue, wasabi, typer, srsly, smart-open, pydantic, preshed, blis, thinc, spacy-loggers, spacy-legacy, pathy, langcodes, fastprogress, fastcore, spacy, fastdownload, fastai\n",
      "Successfully installed blis-0.7.5 catalogue-2.0.6 cymem-2.0.6 fastai-2.5.3 fastcore-1.3.27 fastdownload-0.0.5 fastprogress-1.0.0 langcodes-3.3.0 murmurhash-1.0.6 pathy-0.6.1 preshed-3.0.6 pydantic-1.8.2 smart-open-5.2.1 spacy-3.2.1 spacy-legacy-3.0.8 spacy-loggers-1.0.1 srsly-2.4.2 thinc-8.0.13 typer-0.4.0 wasabi-0.9.0\n"
     ]
    }
   ],
   "source": [
    "!pip install fastai --upgrade\n",
    "\n",
    "# Uncomment and run the below line to get a fresh install of fastai, if needed\n",
    "# !pip install fastai --upgrade"
   ]
  },
  {
   "cell_type": "markdown",
   "metadata": {
    "id": "BJRO1KwdTrx2"
   },
   "source": [
    "> Important: Pay attention! It's important. We will be using a small ConvNet to test our self-supervised learning method. The architecture is defined below in `simple_arch`.\n",
    "\n",
    "Note that `simple_arch` takes in one argument, `pretrained`. This is to allow FastAI to pass `pretrained=True` or `pretrained=False` when creating the model body! Below are some use cases of when we would want `pretrained=True` or `pretrained=False`.\n",
    "\n",
    "1. `pretrained=False` = For training a new model on our rotation prediction task.\n",
    "2. `pretrained=True` = For transferring the learnt features from our rotation task pretraining to solve a classification task.\n",
    "3. `pretrained=False` = For training a new model from scratch on the main classification task (no transfer learning)."
   ]
  },
  {
   "cell_type": "code",
   "execution_count": 7,
   "metadata": {
    "ExecuteTime": {
     "end_time": "2021-03-10T23:31:11.684648Z",
     "start_time": "2021-03-10T23:31:10.265151Z"
    },
    "id": "OK-9alZaTrx2"
   },
   "outputs": [],
   "source": [
    "from fastai.vision.all import *"
   ]
  },
  {
   "cell_type": "code",
   "execution_count": 9,
   "metadata": {
    "ExecuteTime": {
     "end_time": "2021-03-10T23:31:11.693859Z",
     "start_time": "2021-03-10T23:31:11.688343Z"
    },
    "id": "xQSCmfXrTrx3"
   },
   "outputs": [],
   "source": [
    "#collapse-show\n",
    "def simple_arch(pretrained=False):\n",
    "    # Note that FastAI will automatically cut at pooling layer for the body!\n",
    "    model = nn.Sequential(\n",
    "        nn.Conv2d(1, 4, 3, 1),\n",
    "        nn.BatchNorm2d(4),\n",
    "        nn.ReLU(),\n",
    "        nn.Conv2d(4, 16, 3, 1),\n",
    "        nn.BatchNorm2d(16),\n",
    "        nn.ReLU(),\n",
    "        nn.Conv2d(16, 32, 3, 1),\n",
    "        nn.BatchNorm2d(32),\n",
    "        nn.AdaptiveAvgPool2d(1),\n",
    "    )\n",
    "    if (pretrained):\n",
    "        print(\"Loading pretrained model...\")\n",
    "        pretrained_weights = torch.load(save_path/'rot_pretrained.pt')\n",
    "        print(model.load_state_dict(pretrained_weights))\n",
    "    return model"
   ]
  },
  {
   "cell_type": "markdown",
   "metadata": {
    "id": "V0RQxI02Trx3"
   },
   "source": [
    "> The follow below code snippets are examples of how FastAI creates CNNs. Every model will have a *body* and a *head*"
   ]
  },
  {
   "cell_type": "code",
   "execution_count": 10,
   "metadata": {
    "ExecuteTime": {
     "end_time": "2021-03-10T23:31:11.704827Z",
     "start_time": "2021-03-10T23:31:11.695745Z"
    },
    "id": "I0M5YiEgTrx4",
    "outputId": "4c8eab0f-36cc-4fbc-86fb-622507fc6046"
   },
   "outputs": [
    {
     "data": {
      "text/plain": [
       "Sequential(\n",
       "  (0): Conv2d(1, 4, kernel_size=(3, 3), stride=(1, 1))\n",
       "  (1): BatchNorm2d(4, eps=1e-05, momentum=0.1, affine=True, track_running_stats=True)\n",
       "  (2): ReLU()\n",
       "  (3): Conv2d(4, 16, kernel_size=(3, 3), stride=(1, 1))\n",
       "  (4): BatchNorm2d(16, eps=1e-05, momentum=0.1, affine=True, track_running_stats=True)\n",
       "  (5): ReLU()\n",
       "  (6): Conv2d(16, 32, kernel_size=(3, 3), stride=(1, 1))\n",
       "  (7): BatchNorm2d(32, eps=1e-05, momentum=0.1, affine=True, track_running_stats=True)\n",
       ")"
      ]
     },
     "execution_count": 10,
     "metadata": {},
     "output_type": "execute_result"
    }
   ],
   "source": [
    "#collapse-show\n",
    "body = create_body(arch=simple_arch, pretrained=False)\n",
    "body"
   ]
  },
  {
   "cell_type": "code",
   "execution_count": 12,
   "metadata": {
    "ExecuteTime": {
     "end_time": "2021-03-10T23:31:11.878524Z",
     "start_time": "2021-03-10T23:31:11.872169Z"
    },
    "id": "88abBSy0Trx5",
    "outputId": "a6ff46c3-1f12-42d7-9ebb-e9b96148c979"
   },
   "outputs": [
    {
     "data": {
      "text/plain": [
       "Sequential(\n",
       "  (0): AdaptiveConcatPool2d(\n",
       "    (ap): AdaptiveAvgPool2d(output_size=1)\n",
       "    (mp): AdaptiveMaxPool2d(output_size=1)\n",
       "  )\n",
       "  (1): Flatten(full=False)\n",
       "  (2): BatchNorm1d(64, eps=1e-05, momentum=0.1, affine=True, track_running_stats=True)\n",
       "  (3): Dropout(p=0.5, inplace=False)\n",
       "  (4): Linear(in_features=64, out_features=8, bias=False)\n",
       ")"
      ]
     },
     "execution_count": 12,
     "metadata": {},
     "output_type": "execute_result"
    }
   ],
   "source": [
    "#collapse-show\n",
    "head = create_head(nf=32, n_out=8, lin_ftrs=[])\n",
    "head"
   ]
  },
  {
   "cell_type": "code",
   "execution_count": 13,
   "metadata": {
    "ExecuteTime": {
     "end_time": "2021-03-10T23:31:12.399617Z",
     "start_time": "2021-03-10T23:31:12.386435Z"
    },
    "id": "OsZXso2cTrx6",
    "outputId": "6d4a90f4-3718-4484-bced-94934d366544"
   },
   "outputs": [
    {
     "data": {
      "text/plain": [
       "Sequential(\n",
       "  (0): Sequential(\n",
       "    (0): Conv2d(1, 4, kernel_size=(3, 3), stride=(1, 1))\n",
       "    (1): BatchNorm2d(4, eps=1e-05, momentum=0.1, affine=True, track_running_stats=True)\n",
       "    (2): ReLU()\n",
       "    (3): Conv2d(4, 16, kernel_size=(3, 3), stride=(1, 1))\n",
       "    (4): BatchNorm2d(16, eps=1e-05, momentum=0.1, affine=True, track_running_stats=True)\n",
       "    (5): ReLU()\n",
       "    (6): Conv2d(16, 32, kernel_size=(3, 3), stride=(1, 1))\n",
       "    (7): BatchNorm2d(32, eps=1e-05, momentum=0.1, affine=True, track_running_stats=True)\n",
       "  )\n",
       "  (1): Sequential(\n",
       "    (0): AdaptiveConcatPool2d(\n",
       "      (ap): AdaptiveAvgPool2d(output_size=1)\n",
       "      (mp): AdaptiveMaxPool2d(output_size=1)\n",
       "    )\n",
       "    (1): Flatten(full=False)\n",
       "    (2): BatchNorm1d(64, eps=1e-05, momentum=0.1, affine=True, track_running_stats=True)\n",
       "    (3): Dropout(p=0.5, inplace=False)\n",
       "    (4): Linear(in_features=64, out_features=8, bias=False)\n",
       "  )\n",
       ")"
      ]
     },
     "execution_count": 13,
     "metadata": {},
     "output_type": "execute_result"
    }
   ],
   "source": [
    "#collapse-show\n",
    "# Note that FastAI automatically determines nf for the head!\n",
    "model = create_cnn_model(arch=simple_arch, pretrained=False, n_out=8, lin_ftrs=[])\n",
    "model"
   ]
  },
  {
   "cell_type": "markdown",
   "metadata": {
    "id": "EPBzU0q0Trx6"
   },
   "source": [
    "# PyTorch Rotation/Classification Self-Supervised Dataset"
   ]
  },
  {
   "cell_type": "code",
   "execution_count": 14,
   "metadata": {
    "ExecuteTime": {
     "end_time": "2021-03-10T23:31:12.808083Z",
     "start_time": "2021-03-10T23:31:12.804890Z"
    },
    "id": "EkTG299eTrx6"
   },
   "outputs": [],
   "source": [
    "# --- Functions to convert between Torch Tensors and PIL Images ---\n",
    "import torchvision\n",
    "tensorToImage = torchvision.transforms.ToPILImage()\n",
    "imageToTensor = torchvision.transforms.ToTensor()"
   ]
  },
  {
   "cell_type": "code",
   "execution_count": 15,
   "metadata": {
    "ExecuteTime": {
     "end_time": "2021-03-10T23:28:37.733862Z",
     "start_time": "2021-03-10T23:28:37.731334Z"
    },
    "id": "bg2defioTrx6"
   },
   "outputs": [],
   "source": [
    "#collapse-hide\n",
    "# Uncomment and run the below lines if torchvision has trouble downloading MNIST (in the next cell)\n",
    "\n",
    "# !wget -P data/MNIST/raw/ http://yann.lecun.com/exdb/mnist/train-images-idx3-ubyte.gz\n",
    "# !wget -P data/MNIST/raw/ http://yann.lecun.com/exdb/mnist/train-labels-idx1-ubyte.gz\n",
    "# !wget -P data/MNIST/raw/ http://yann.lecun.com/exdb/mnist/t10k-images-idx3-ubyte.gz\n",
    "# !wget -P data/MNIST/raw/ http://yann.lecun.com/exdb/mnist/t10k-labels-idx1-ubyte.gz"
   ]
  },
  {
   "cell_type": "code",
   "execution_count": 25,
   "metadata": {
    "ExecuteTime": {
     "end_time": "2021-03-10T23:31:14.084740Z",
     "start_time": "2021-03-10T23:31:14.045646Z"
    },
    "id": "sohx0YSKTrx7",
    "outputId": "da7f6798-8822-41ac-e5b3-6e9fdce7f58b",
    "scrolled": true
   },
   "outputs": [
    {
     "data": {
      "text/plain": [
       "Dataset MNIST\n",
       "    Number of datapoints: 60000\n",
       "    Root location: data/\n",
       "    Split: Train"
      ]
     },
     "execution_count": 25,
     "metadata": {},
     "output_type": "execute_result"
    }
   ],
   "source": [
    "# Download MNIST dataset from PyTorch if not downloaded already!\n",
    "torchvision.datasets.MNIST('data/', download=True)"
   ]
  },
  {
   "cell_type": "markdown",
   "metadata": {
    "id": "G0EzKmHQTrx7"
   },
   "source": [
    "Below we define a dataset, here's the docstring:\n",
    "\n",
    "A Dataset for Rotation-based Self-Supervision! Images are rotated clockwise.\n",
    "- `file` - MNIST processed .pt file.\n",
    "- `pct` - percent of data to use\n",
    "- `classification` - False=Use rotation labels. True=Use original classification labels."
   ]
  },
  {
   "cell_type": "code",
   "execution_count": 18,
   "metadata": {
    "ExecuteTime": {
     "end_time": "2021-03-10T23:31:14.623324Z",
     "start_time": "2021-03-10T23:31:14.612994Z"
    },
    "id": "Wfc1LiwcTrx7"
   },
   "outputs": [],
   "source": [
    "#collapse-hide\n",
    "class Custom_Dataset_MNIST():\n",
    "    '''\n",
    "    A Dataset for Rotation-based Self-Supervision! Images are rotated clockwise.\n",
    "    - file - MNIST processed .pt file.\n",
    "    - pct - percent of data to use\n",
    "    - classification - False=Use rotation labels. True=Use original classification labels.\n",
    "    '''\n",
    "    \n",
    "    def __init__(self, file, pct, classification):\n",
    "        \n",
    "        data = torch.load(file)\n",
    "        self.imgs = data[0]\n",
    "        self.labels = data[1]\n",
    "        self.pct = pct\n",
    "        self.classification = classification\n",
    "                    \n",
    "        slice_idx = int(len(self.imgs)*self.pct)\n",
    "        self.imgs = self.imgs[:slice_idx]\n",
    "                    \n",
    "    def __len__(self):\n",
    "        return len(self.imgs)\n",
    "    \n",
    "    def __getitem__(self, idx):\n",
    "        img = self.imgs[idx].unsqueeze(0)\n",
    "        img = tensorToImage(img)\n",
    "        img = img.resize((32, 32), resample=1)\n",
    "        img = imageToTensor(img)\n",
    "        \n",
    "        if (not self.classification):\n",
    "            # 4 classes for rotation\n",
    "            degrees = [0, 45, 90, 135, 180, 225, 270, 315]\n",
    "            rand_choice = random.randint(0, len(degrees)-1)\n",
    "            \n",
    "            img = tensorToImage(img)\n",
    "            img = img.rotate(degrees[rand_choice])\n",
    "            img = imageToTensor(img)\n",
    "            return img, torch.tensor(rand_choice).long()\n",
    "        \n",
    "        return img, self.labels[idx]\n",
    "    \n",
    "    def show_batch(self, n=3):\n",
    "        fig, axs = plt.subplots(n, n)\n",
    "        fig.tight_layout()\n",
    "        for i in range(n):\n",
    "            for j in range(n):\n",
    "                rand_idx = random.randint(0, len(self)-1)\n",
    "                img, label = self.__getitem__(rand_idx)\n",
    "                axs[i, j].imshow(tensorToImage(img), cmap='gray')\n",
    "                if self.classification:\n",
    "                    axs[i, j].set_title('Label: {0} (Digit #{1})'.format(label.item(), label.item()))\n",
    "                else:\n",
    "                    axs[i, j].set_title('Label: {0} ({1} Degrees)'.format(label.item(), label.item()*45))\n",
    "                axs[i, j].axis('off')"
   ]
  },
  {
   "cell_type": "markdown",
   "metadata": {
    "id": "VEcTmnZyTrx8"
   },
   "source": [
    "# Rotation Prediction Data"
   ]
  },
  {
   "cell_type": "markdown",
   "metadata": {
    "ExecuteTime": {
     "end_time": "2020-03-23T16:28:12.061325Z",
     "start_time": "2020-03-23T16:28:12.055543Z"
    },
    "id": "wt9xW9a2Trx8"
   },
   "source": [
    "> Important: 60k training data and 10k validation data!"
   ]
  },
  {
   "cell_type": "code",
   "execution_count": 26,
   "metadata": {
    "ExecuteTime": {
     "end_time": "2021-03-10T23:31:15.348643Z",
     "start_time": "2021-03-10T23:31:15.302426Z"
    },
    "id": "IBMTeUdcTrx8",
    "outputId": "e3357de7-f4d4-420c-b942-046ca1db9a67"
   },
   "outputs": [
    {
     "name": "stdout",
     "output_type": "stream",
     "text": [
      "60000 Training Samples | 10000 Validation Samples\n"
     ]
    }
   ],
   "source": [
    "# Make rotation datasets\n",
    "train_ds = Custom_Dataset_MNIST('data/MNIST/processed/training.pt', pct=1.0, classification=False)\n",
    "valid_ds = Custom_Dataset_MNIST('data/MNIST/processed/test.pt', pct=1.0, classification=False)\n",
    "print('{0} Training Samples | {1} Validation Samples'.format(len(train_ds), len(valid_ds)))"
   ]
  },
  {
   "cell_type": "markdown",
   "metadata": {
    "ExecuteTime": {
     "end_time": "2020-03-23T16:28:42.437483Z",
     "start_time": "2020-03-23T16:28:42.431824Z"
    },
    "id": "R_zUS7tXTrx8"
   },
   "source": [
    "> Note: Notice that our labels don't correspond to digits! They correspond to the amount of degrees rotated! Specifically from this predefined set: `[0, 45, 90, 135, 180, 225, 270, 315]`"
   ]
  },
  {
   "cell_type": "code",
   "execution_count": 27,
   "metadata": {
    "ExecuteTime": {
     "end_time": "2021-03-10T23:31:16.188918Z",
     "start_time": "2021-03-10T23:31:15.648884Z"
    },
    "id": "6jLJc94CTrx9",
    "outputId": "054543ee-8cc1-4383-fa00-93b0f42f78b8"
   },
   "outputs": [
    {
     "name": "stdout",
     "output_type": "stream",
     "text": [
      "Due to IPython and Windows limitation, python multiprocessing isn't available now.\n",
      "So `number_workers` is changed to 0 to avoid getting stuck\n",
      "Due to IPython and Windows limitation, python multiprocessing isn't available now.\n",
      "So `number_workers` is changed to 0 to avoid getting stuck\n"
     ]
    },
    {
     "data": {
      "image/png": "[encoded data removed]",
      "text/plain": [
       "<Figure size 432x288 with 9 Axes>"
      ]
     },
     "metadata": {
      "needs_background": "light"
     },
     "output_type": "display_data"
    }
   ],
   "source": [
    "from fastai.data.core import DataLoaders\n",
    "dls = DataLoaders.from_dsets(train_ds, valid_ds).cuda()\n",
    "\n",
    "# Override the show_batch function of dls to the one used in our dataset!\n",
    "dls.show_batch = train_ds.show_batch\n",
    "\n",
    "# We have 8 classes! [0, 1, 2, 3, 4, 5, 6, 7] that correspond to the [0, 45, 90, 135, 180, 225, 270, 315] degrees of rotation.\n",
    "dls.c = 8\n",
    "\n",
    "dls.show_batch()"
   ]
  },
  {
   "cell_type": "markdown",
   "metadata": {
    "id": "zTmLjo4PTrx9"
   },
   "source": [
    "# FastAI Vision Learner [Rotation]"
   ]
  },
  {
   "cell_type": "code",
   "execution_count": 28,
   "metadata": {
    "ExecuteTime": {
     "end_time": "2021-03-10T23:31:16.196844Z",
     "start_time": "2021-03-10T23:31:16.191449Z"
    },
    "id": "zVVzf6-wTrx9",
    "outputId": "f86c9735-61c7-4705-8d67-2b2be53b102c"
   },
   "outputs": [
    {
     "data": {
      "text/plain": [
       "Sequential(\n",
       "  (0): AdaptiveConcatPool2d(\n",
       "    (ap): AdaptiveAvgPool2d(output_size=1)\n",
       "    (mp): AdaptiveMaxPool2d(output_size=1)\n",
       "  )\n",
       "  (1): Flatten(full=False)\n",
       "  (2): BatchNorm1d(64, eps=1e-05, momentum=0.1, affine=True, track_running_stats=True)\n",
       "  (3): Dropout(p=0.5, inplace=False)\n",
       "  (4): Linear(in_features=64, out_features=8, bias=False)\n",
       ")"
      ]
     },
     "execution_count": 28,
     "metadata": {},
     "output_type": "execute_result"
    }
   ],
   "source": [
    "# Create a config for our model's head!\n",
    "rotation_head = create_head(nf=32, n_out=8, lin_ftrs=[])\n",
    "rotation_head"
   ]
  },
  {
   "cell_type": "markdown",
   "metadata": {
    "ExecuteTime": {
     "end_time": "2020-03-23T16:28:42.437483Z",
     "start_time": "2020-03-23T16:28:42.431824Z"
    },
    "id": "VAxNJxUTTrx9"
   },
   "source": [
    "> Note: We want to measure `top_2_accuracy` along with regular (top_1) accuracy, because there are hard-cases where it's understandable why our model got it wrong. For example: '0' rotated 90 or 270 degrees, or '1' rotated 0 or 180 degrees. (They can look the same!)"
   ]
  },
  {
   "cell_type": "code",
   "execution_count": 29,
   "metadata": {
    "ExecuteTime": {
     "end_time": "2021-03-10T23:31:16.284539Z",
     "start_time": "2021-03-10T23:31:16.280697Z"
    },
    "id": "58nYDDW0Trx9",
    "outputId": "40c85e77-d6f4-4775-d97e-56fe3db6ba94"
   },
   "outputs": [
    {
     "data": {
      "text/plain": [
       "<function __main__.<lambda>(inp, targ)>"
      ]
     },
     "execution_count": 29,
     "metadata": {},
     "output_type": "execute_result"
    }
   ],
   "source": [
    "# Top_2 accuracy is a nice metric for hard-cases:\n",
    "# - A zero rotated 90 or 270 degrees?\n",
    "# - A one rotated 0 or 180 degrees?\n",
    "# etc :P\n",
    "\n",
    "top_2_accuracy = lambda inp, targ: top_k_accuracy(inp, targ, k=2)\n",
    "top_2_accuracy"
   ]
  },
  {
   "cell_type": "markdown",
   "metadata": {
    "id": "S7aNVvzHTrx-"
   },
   "source": [
    "Here, we train a model on the rotation prediction task!"
   ]
  },
  {
   "cell_type": "code",
   "execution_count": 30,
   "metadata": {
    "ExecuteTime": {
     "end_time": "2021-03-10T23:31:16.593891Z",
     "start_time": "2021-03-10T23:31:16.585743Z"
    },
    "id": "THQ11dpLTrx-",
    "outputId": "70f913ef-f77f-4d6f-951e-319248126984"
   },
   "outputs": [
    {
     "data": {
      "text/plain": [
       "Sequential(\n",
       "  (0): Sequential(\n",
       "    (0): Conv2d(1, 4, kernel_size=(3, 3), stride=(1, 1))\n",
       "    (1): BatchNorm2d(4, eps=1e-05, momentum=0.1, affine=True, track_running_stats=True)\n",
       "    (2): ReLU()\n",
       "    (3): Conv2d(4, 16, kernel_size=(3, 3), stride=(1, 1))\n",
       "    (4): BatchNorm2d(16, eps=1e-05, momentum=0.1, affine=True, track_running_stats=True)\n",
       "    (5): ReLU()\n",
       "    (6): Conv2d(16, 32, kernel_size=(3, 3), stride=(1, 1))\n",
       "    (7): BatchNorm2d(32, eps=1e-05, momentum=0.1, affine=True, track_running_stats=True)\n",
       "  )\n",
       "  (1): Sequential(\n",
       "    (0): AdaptiveConcatPool2d(\n",
       "      (ap): AdaptiveAvgPool2d(output_size=1)\n",
       "      (mp): AdaptiveMaxPool2d(output_size=1)\n",
       "    )\n",
       "    (1): Flatten(full=False)\n",
       "    (2): BatchNorm1d(64, eps=1e-05, momentum=0.1, affine=True, track_running_stats=True)\n",
       "    (3): Dropout(p=0.5, inplace=False)\n",
       "    (4): Linear(in_features=64, out_features=8, bias=False)\n",
       "  )\n",
       ")"
      ]
     },
     "execution_count": 30,
     "metadata": {},
     "output_type": "execute_result"
    }
   ],
   "source": [
    "#collapse-show\n",
    "# Note to set a value for lin_ftrs, we use the defined config above.\n",
    "learner = cnn_learner(dls,\n",
    "                      simple_arch,\n",
    "                      pretrained=False,\n",
    "                      loss_func=CrossEntropyLossFlat(),\n",
    "                      custom_head=rotation_head,\n",
    "                      metrics=[accuracy, top_2_accuracy])\n",
    "\n",
    "learner.model"
   ]
  },
  {
   "cell_type": "code",
   "execution_count": 31,
   "metadata": {
    "ExecuteTime": {
     "end_time": "2021-03-10T23:31:19.140895Z",
     "start_time": "2021-03-10T23:31:16.752265Z"
    },
    "id": "mJru6eNyTrx-",
    "outputId": "2cb7fed3-9bb8-499b-fd5f-56fe1436eee2",
    "scrolled": true
   },
   "outputs": [
    {
     "data": {
      "text/html": [],
      "text/plain": [
       "<IPython.core.display.HTML object>"
      ]
     },
     "metadata": {},
     "output_type": "display_data"
    },
    {
     "data": {
      "text/plain": [
       "Sequential (Input shape: 64 x 1 x 32 x 32)\n",
       "============================================================================\n",
       "Layer (type)         Output Shape         Param #    Trainable \n",
       "============================================================================\n",
       "                     64 x 4 x 30 x 30    \n",
       "Conv2d                                    40         True      \n",
       "BatchNorm2d                               8          True      \n",
       "ReLU                                                           \n",
       "____________________________________________________________________________\n",
       "                     64 x 16 x 28 x 28   \n",
       "Conv2d                                    592        True      \n",
       "BatchNorm2d                               32         True      \n",
       "ReLU                                                           \n",
       "____________________________________________________________________________\n",
       "                     64 x 32 x 26 x 26   \n",
       "Conv2d                                    4640       True      \n",
       "BatchNorm2d                               64         True      \n",
       "____________________________________________________________________________\n",
       "                     64 x 32 x 1 x 1     \n",
       "AdaptiveAvgPool2d                                              \n",
       "AdaptiveMaxPool2d                                              \n",
       "____________________________________________________________________________\n",
       "                     64 x 64             \n",
       "Flatten                                                        \n",
       "BatchNorm1d                               128        True      \n",
       "Dropout                                                        \n",
       "____________________________________________________________________________\n",
       "                     64 x 8              \n",
       "Linear                                    512        True      \n",
       "____________________________________________________________________________\n",
       "\n",
       "Total params: 6,016\n",
       "Total trainable params: 6,016\n",
       "Total non-trainable params: 0\n",
       "\n",
       "Optimizer used: <function Adam at 0x000001BF07FB7670>\n",
       "Loss function: FlattenedLoss of CrossEntropyLoss()\n",
       "\n",
       "Callbacks:\n",
       "  - TrainEvalCallback\n",
       "  - Recorder\n",
       "  - ProgressCallback"
      ]
     },
     "execution_count": 31,
     "metadata": {},
     "output_type": "execute_result"
    }
   ],
   "source": [
    "learner.summary()"
   ]
  },
  {
   "cell_type": "code",
   "execution_count": 32,
   "metadata": {
    "ExecuteTime": {
     "end_time": "2021-03-10T23:31:21.664562Z",
     "start_time": "2021-03-10T23:31:19.143280Z"
    },
    "id": "NzNeDBwJTrx-",
    "outputId": "49d128e1-eb2c-4c62-dc4b-d14db01aa238"
   },
   "outputs": [
    {
     "data": {
      "text/html": [],
      "text/plain": [
       "<IPython.core.display.HTML object>"
      ]
     },
     "metadata": {},
     "output_type": "display_data"
    },
    {
     "data": {
      "text/plain": [
       "SuggestedLRs(valley=0.005248074419796467)"
      ]
     },
     "execution_count": 32,
     "metadata": {},
     "output_type": "execute_result"
    },
    {
     "data": {
      "image/png": "[encoded data removed]",
      "text/plain": [
       "<Figure size 432x288 with 1 Axes>"
      ]
     },
     "metadata": {
      "needs_background": "light"
     },
     "output_type": "display_data"
    }
   ],
   "source": [
    "learner.lr_find()"
   ]
  },
  {
   "cell_type": "code",
   "execution_count": 33,
   "metadata": {
    "ExecuteTime": {
     "end_time": "2021-03-10T23:32:22.574170Z",
     "start_time": "2021-03-10T23:31:21.666666Z"
    },
    "id": "aXlyFh4KTrx-",
    "outputId": "18356fe0-b9ff-44a9-fd98-91ba68c99c88"
   },
   "outputs": [
    {
     "data": {
      "text/html": [
       "<table border=\"1\" class=\"dataframe\">\n",
       "  <thead>\n",
       "    <tr style=\"text-align: left;\">\n",
       "      <th>epoch</th>\n",
       "      <th>train_loss</th>\n",
       "      <th>valid_loss</th>\n",
       "      <th>accuracy</th>\n",
       "      <th><lambda></th>\n",
       "      <th>time</th>\n",
       "    </tr>\n",
       "  </thead>\n",
       "  <tbody>\n",
       "    <tr>\n",
       "      <td>0</td>\n",
       "      <td>0.927067</td>\n",
       "      <td>0.842473</td>\n",
       "      <td>0.618400</td>\n",
       "      <td>0.918600</td>\n",
       "      <td>00:37</td>\n",
       "    </tr>\n",
       "    <tr>\n",
       "      <td>1</td>\n",
       "      <td>0.841698</td>\n",
       "      <td>1.955620</td>\n",
       "      <td>0.438600</td>\n",
       "      <td>0.742700</td>\n",
       "      <td>00:44</td>\n",
       "    </tr>\n",
       "    <tr>\n",
       "      <td>2</td>\n",
       "      <td>0.727653</td>\n",
       "      <td>1.701742</td>\n",
       "      <td>0.506800</td>\n",
       "      <td>0.720600</td>\n",
       "      <td>00:31</td>\n",
       "    </tr>\n",
       "    <tr>\n",
       "      <td>3</td>\n",
       "      <td>0.618809</td>\n",
       "      <td>0.643281</td>\n",
       "      <td>0.722800</td>\n",
       "      <td>0.944600</td>\n",
       "      <td>00:32</td>\n",
       "    </tr>\n",
       "    <tr>\n",
       "      <td>4</td>\n",
       "      <td>0.574905</td>\n",
       "      <td>0.482118</td>\n",
       "      <td>0.798800</td>\n",
       "      <td>0.971000</td>\n",
       "      <td>00:31</td>\n",
       "    </tr>\n",
       "  </tbody>\n",
       "</table>"
      ],
      "text/plain": [
       "<IPython.core.display.HTML object>"
      ]
     },
     "metadata": {},
     "output_type": "display_data"
    }
   ],
   "source": [
    "learner.fit_one_cycle(5, lr_max=3e-2)"
   ]
  },
  {
   "cell_type": "markdown",
   "metadata": {
    "id": "obQzmN0xTrx_"
   },
   "source": [
    "> Important: We were able to achieve 76.2% top-1 accuracy, and 96.8% top-2 accuracy after just 5 epochs! Now we want to grab our `model` from our `Learner`, and save the body of it!"
   ]
  },
  {
   "cell_type": "markdown",
   "metadata": {
    "id": "F3WEWbnSTrx_"
   },
   "source": [
    "> Note: Our `model` has two components, the *body* and the *head*. `model` is a list of size 2, where `model[0]` is the body, and `model[1]` is the head!"
   ]
  },
  {
   "cell_type": "code",
   "execution_count": 34,
   "metadata": {
    "ExecuteTime": {
     "end_time": "2021-03-10T23:32:22.581345Z",
     "start_time": "2021-03-10T23:32:22.577015Z"
    },
    "id": "l3Bk9yjtTrx_",
    "outputId": "1cd1d9c7-7abd-4bed-9f94-d0779e811760"
   },
   "outputs": [
    {
     "data": {
      "text/plain": [
       "Sequential(\n",
       "  (0): Conv2d(1, 4, kernel_size=(3, 3), stride=(1, 1))\n",
       "  (1): BatchNorm2d(4, eps=1e-05, momentum=0.1, affine=True, track_running_stats=True)\n",
       "  (2): ReLU()\n",
       "  (3): Conv2d(4, 16, kernel_size=(3, 3), stride=(1, 1))\n",
       "  (4): BatchNorm2d(16, eps=1e-05, momentum=0.1, affine=True, track_running_stats=True)\n",
       "  (5): ReLU()\n",
       "  (6): Conv2d(16, 32, kernel_size=(3, 3), stride=(1, 1))\n",
       "  (7): BatchNorm2d(32, eps=1e-05, momentum=0.1, affine=True, track_running_stats=True)\n",
       ")"
      ]
     },
     "execution_count": 34,
     "metadata": {},
     "output_type": "execute_result"
    }
   ],
   "source": [
    "# Access the body of our model\n",
    "trained_body = learner.model[0]\n",
    "trained_body"
   ]
  },
  {
   "cell_type": "markdown",
   "metadata": {
    "id": "ty7GmGzCTrx_"
   },
   "source": [
    "> Tip: To save a model in PyTorch, save it's `state_dict` function! You can use `model.load_state_dict` to re-load the weights."
   ]
  },
  {
   "cell_type": "code",
   "execution_count": 35,
   "metadata": {
    "ExecuteTime": {
     "end_time": "2021-03-10T23:32:22.589471Z",
     "start_time": "2021-03-10T23:32:22.583958Z"
    },
    "id": "uzqjT8TeTrx_"
   },
   "outputs": [],
   "source": [
    "# Make save directory if it doesn't exist\n",
    "save_path = Path('rotation_cps/')\n",
    "if not save_path.exists():\n",
    "    save_path.mkdir()\n",
    "\n",
    "# Save the rotation-pretraining weights of our model body\n",
    "torch.save(trained_body.state_dict(), save_path/'rot_pretrained.pt')"
   ]
  },
  {
   "cell_type": "markdown",
   "metadata": {
    "id": "Lqy1uDA6TryA"
   },
   "source": [
    "# Original Classification Data"
   ]
  },
  {
   "cell_type": "markdown",
   "metadata": {
    "id": "Tcg-yF0oTryA"
   },
   "source": [
    "Now that we have pretrained our model on the rotation prediction task, we want to switch over to the original labeled data for the classification task."
   ]
  },
  {
   "cell_type": "markdown",
   "metadata": {
    "id": "LMOAauhnTryA"
   },
   "source": [
    "> Important: We're only using 180 samples for training!"
   ]
  },
  {
   "cell_type": "code",
   "execution_count": 36,
   "metadata": {
    "ExecuteTime": {
     "end_time": "2021-03-10T23:32:22.635149Z",
     "start_time": "2021-03-10T23:32:22.591062Z"
    },
    "id": "_S8ZjRWiTryA",
    "outputId": "47209ec0-af88-42ca-8c73-271ef328646a"
   },
   "outputs": [
    {
     "name": "stdout",
     "output_type": "stream",
     "text": [
      "180 Training Samples | 10000 Validation Samples\n"
     ]
    }
   ],
   "source": [
    "# Use 0.3% classification labeled data for training!\n",
    "# Use 100% classification labeled data for validation!\n",
    "train_ds = Custom_Dataset_MNIST('data/MNIST/processed/training.pt', pct=0.003, classification=True)\n",
    "valid_ds = Custom_Dataset_MNIST('data/MNIST/processed/test.pt', pct=1.0, classification=True)\n",
    "print('{0} Training Samples | {1} Validation Samples'.format(len(train_ds), len(valid_ds)))"
   ]
  },
  {
   "cell_type": "markdown",
   "metadata": {
    "id": "0hAYSJTbTryA"
   },
   "source": [
    "> Note: Notice the labels now correspond to the digit class!"
   ]
  },
  {
   "cell_type": "code",
   "execution_count": 37,
   "metadata": {
    "ExecuteTime": {
     "end_time": "2021-03-10T23:32:23.187943Z",
     "start_time": "2021-03-10T23:32:22.636841Z"
    },
    "id": "LflAJ6bcTryA",
    "outputId": "d9ea6a60-a541-4127-f3e6-aadb079d050f"
   },
   "outputs": [
    {
     "name": "stdout",
     "output_type": "stream",
     "text": [
      "Due to IPython and Windows limitation, python multiprocessing isn't available now.\n",
      "So `number_workers` is changed to 0 to avoid getting stuck\n",
      "Due to IPython and Windows limitation, python multiprocessing isn't available now.\n",
      "So `number_workers` is changed to 0 to avoid getting stuck\n"
     ]
    },
    {
     "data": {
      "image/png": "[encoded data removed]",
      "text/plain": [
       "<Figure size 432x288 with 9 Axes>"
      ]
     },
     "metadata": {
      "needs_background": "light"
     },
     "output_type": "display_data"
    }
   ],
   "source": [
    "from fastai.data.core import DataLoaders\n",
    "dls = DataLoaders.from_dsets(train_ds, valid_ds).cuda()\n",
    "dls.show_batch = train_ds.show_batch\n",
    "\n",
    "# We have 10 classes! One for each digit label!\n",
    "dls.c = 10\n",
    "\n",
    "dls.show_batch()"
   ]
  },
  {
   "cell_type": "markdown",
   "metadata": {
    "id": "yqHZW3_rTryB"
   },
   "source": [
    "# FastAI Vision Learner [Transfer-Classification]"
   ]
  },
  {
   "cell_type": "markdown",
   "metadata": {
    "id": "Rm3lBPctTryB"
   },
   "source": [
    "Here we will toggle `pretrained=True` to transfer our rotation prediction features, and train on the original 180 labeled data."
   ]
  },
  {
   "cell_type": "code",
   "execution_count": 38,
   "metadata": {
    "ExecuteTime": {
     "end_time": "2021-03-10T23:32:23.198800Z",
     "start_time": "2021-03-10T23:32:23.189837Z"
    },
    "id": "tg_O-5MFTryB",
    "outputId": "46b1947f-6c2f-4534-8e71-be6f8e149a2f"
   },
   "outputs": [
    {
     "data": {
      "text/plain": [
       "Sequential(\n",
       "  (0): AdaptiveConcatPool2d(\n",
       "    (ap): AdaptiveAvgPool2d(output_size=1)\n",
       "    (mp): AdaptiveMaxPool2d(output_size=1)\n",
       "  )\n",
       "  (1): Flatten(full=False)\n",
       "  (2): BatchNorm1d(64, eps=1e-05, momentum=0.1, affine=True, track_running_stats=True)\n",
       "  (3): Dropout(p=0.5, inplace=False)\n",
       "  (4): Linear(in_features=64, out_features=10, bias=False)\n",
       ")"
      ]
     },
     "execution_count": 38,
     "metadata": {},
     "output_type": "execute_result"
    }
   ],
   "source": [
    "#collapse-show\n",
    "classification_head = create_head(nf=32, n_out=10, lin_ftrs=[])\n",
    "classification_head"
   ]
  },
  {
   "cell_type": "markdown",
   "metadata": {
    "id": "QIYC_t6fTryB"
   },
   "source": [
    "> Note: We have `n_out=10` because of the 10 different digit classes"
   ]
  },
  {
   "cell_type": "code",
   "execution_count": 39,
   "metadata": {
    "ExecuteTime": {
     "end_time": "2021-03-10T23:32:23.217156Z",
     "start_time": "2021-03-10T23:32:23.201091Z"
    },
    "id": "J_ugDkRuTryB",
    "outputId": "b47b8b43-d62c-4aae-a88b-3e3ea8999e9b"
   },
   "outputs": [
    {
     "name": "stdout",
     "output_type": "stream",
     "text": [
      "Loading pretrained model...\n",
      "<All keys matched successfully>\n"
     ]
    },
    {
     "data": {
      "text/plain": [
       "Sequential(\n",
       "  (0): Sequential(\n",
       "    (0): Conv2d(1, 4, kernel_size=(3, 3), stride=(1, 1))\n",
       "    (1): BatchNorm2d(4, eps=1e-05, momentum=0.1, affine=True, track_running_stats=True)\n",
       "    (2): ReLU()\n",
       "    (3): Conv2d(4, 16, kernel_size=(3, 3), stride=(1, 1))\n",
       "    (4): BatchNorm2d(16, eps=1e-05, momentum=0.1, affine=True, track_running_stats=True)\n",
       "    (5): ReLU()\n",
       "    (6): Conv2d(16, 32, kernel_size=(3, 3), stride=(1, 1))\n",
       "    (7): BatchNorm2d(32, eps=1e-05, momentum=0.1, affine=True, track_running_stats=True)\n",
       "  )\n",
       "  (1): Sequential(\n",
       "    (0): AdaptiveConcatPool2d(\n",
       "      (ap): AdaptiveAvgPool2d(output_size=1)\n",
       "      (mp): AdaptiveMaxPool2d(output_size=1)\n",
       "    )\n",
       "    (1): Flatten(full=False)\n",
       "    (2): BatchNorm1d(64, eps=1e-05, momentum=0.1, affine=True, track_running_stats=True)\n",
       "    (3): Dropout(p=0.5, inplace=False)\n",
       "    (4): Linear(in_features=64, out_features=10, bias=False)\n",
       "  )\n",
       ")"
      ]
     },
     "execution_count": 39,
     "metadata": {},
     "output_type": "execute_result"
    }
   ],
   "source": [
    "#collapse-show\n",
    "# pretrained=True will load the saved rotation pretraining weights into our model's body!\n",
    "# See simple_arch() function definition for more details!\n",
    "learner = cnn_learner(dls,\n",
    "                      simple_arch,\n",
    "                      pretrained=True,\n",
    "                      loss_func=CrossEntropyLossFlat(),\n",
    "                      custom_head=classification_head,\n",
    "                      metrics=[accuracy])\n",
    "\n",
    "learner.model"
   ]
  },
  {
   "cell_type": "markdown",
   "metadata": {
    "id": "LxODfK_YTryB"
   },
   "source": [
    "> Tip: Freezing a model's body after transferring the weights over, allows the new head to get *calibrated* with the rest of the model!"
   ]
  },
  {
   "cell_type": "code",
   "execution_count": 40,
   "metadata": {
    "ExecuteTime": {
     "end_time": "2021-03-10T23:32:23.221977Z",
     "start_time": "2021-03-10T23:32:23.218810Z"
    },
    "id": "ppd7iY_QTryC"
   },
   "outputs": [],
   "source": [
    "learner.freeze()"
   ]
  },
  {
   "cell_type": "markdown",
   "metadata": {
    "id": "Gw9vh3U1TryC"
   },
   "source": [
    "> Note: Looking at the model summary, we can see that the model is frozen up to the new head! Good!"
   ]
  },
  {
   "cell_type": "code",
   "execution_count": 41,
   "metadata": {
    "ExecuteTime": {
     "end_time": "2021-03-10T23:32:23.254536Z",
     "start_time": "2021-03-10T23:32:23.223686Z"
    },
    "id": "TdN3oCv4TryC",
    "outputId": "fce2c4ea-2dd0-476f-aaf4-3f62240ab0f5",
    "scrolled": true
   },
   "outputs": [
    {
     "data": {
      "text/html": [],
      "text/plain": [
       "<IPython.core.display.HTML object>"
      ]
     },
     "metadata": {},
     "output_type": "display_data"
    },
    {
     "data": {
      "text/plain": [
       "Sequential (Input shape: 64 x 1 x 32 x 32)\n",
       "============================================================================\n",
       "Layer (type)         Output Shape         Param #    Trainable \n",
       "============================================================================\n",
       "                     64 x 4 x 30 x 30    \n",
       "Conv2d                                    40         False     \n",
       "BatchNorm2d                               8          True      \n",
       "ReLU                                                           \n",
       "____________________________________________________________________________\n",
       "                     64 x 16 x 28 x 28   \n",
       "Conv2d                                    592        False     \n",
       "BatchNorm2d                               32         True      \n",
       "ReLU                                                           \n",
       "____________________________________________________________________________\n",
       "                     64 x 32 x 26 x 26   \n",
       "Conv2d                                    4640       False     \n",
       "BatchNorm2d                               64         True      \n",
       "____________________________________________________________________________\n",
       "                     64 x 32 x 1 x 1     \n",
       "AdaptiveAvgPool2d                                              \n",
       "AdaptiveMaxPool2d                                              \n",
       "____________________________________________________________________________\n",
       "                     64 x 64             \n",
       "Flatten                                                        \n",
       "BatchNorm1d                               128        True      \n",
       "Dropout                                                        \n",
       "____________________________________________________________________________\n",
       "                     64 x 10             \n",
       "Linear                                    640        True      \n",
       "____________________________________________________________________________\n",
       "\n",
       "Total params: 6,144\n",
       "Total trainable params: 872\n",
       "Total non-trainable params: 5,272\n",
       "\n",
       "Optimizer used: <function Adam at 0x000001BF07FB7670>\n",
       "Loss function: FlattenedLoss of CrossEntropyLoss()\n",
       "\n",
       "Model frozen up to parameter group #1\n",
       "\n",
       "Callbacks:\n",
       "  - TrainEvalCallback\n",
       "  - Recorder\n",
       "  - ProgressCallback"
      ]
     },
     "execution_count": 41,
     "metadata": {},
     "output_type": "execute_result"
    }
   ],
   "source": [
    "learner.summary()"
   ]
  },
  {
   "cell_type": "code",
   "execution_count": 42,
   "metadata": {
    "ExecuteTime": {
     "end_time": "2021-03-10T23:32:45.606872Z",
     "start_time": "2021-03-10T23:32:23.256375Z"
    },
    "id": "aukCo9HCTryC",
    "outputId": "497b6278-80df-4202-d960-09fbef10d650",
    "scrolled": true
   },
   "outputs": [
    {
     "data": {
      "text/html": [],
      "text/plain": [
       "<IPython.core.display.HTML object>"
      ]
     },
     "metadata": {},
     "output_type": "display_data"
    },
    {
     "data": {
      "text/plain": [
       "SuggestedLRs(valley=0.005248074419796467)"
      ]
     },
     "execution_count": 42,
     "metadata": {},
     "output_type": "execute_result"
    },
    {
     "data": {
      "image/png": "[encoded data removed]",
      "text/plain": [
       "<Figure size 432x288 with 1 Axes>"
      ]
     },
     "metadata": {
      "needs_background": "light"
     },
     "output_type": "display_data"
    }
   ],
   "source": [
    "learner.lr_find()"
   ]
  },
  {
   "cell_type": "code",
   "execution_count": 43,
   "metadata": {
    "ExecuteTime": {
     "end_time": "2021-03-10T23:33:02.517996Z",
     "start_time": "2021-03-10T23:32:45.608826Z"
    },
    "id": "ytQMO6UJTryC",
    "outputId": "dddc22b3-7763-4fec-c9b3-9b5a973731ea"
   },
   "outputs": [
    {
     "data": {
      "text/html": [
       "<table border=\"1\" class=\"dataframe\">\n",
       "  <thead>\n",
       "    <tr style=\"text-align: left;\">\n",
       "      <th>epoch</th>\n",
       "      <th>train_loss</th>\n",
       "      <th>valid_loss</th>\n",
       "      <th>accuracy</th>\n",
       "      <th>time</th>\n",
       "    </tr>\n",
       "  </thead>\n",
       "  <tbody>\n",
       "    <tr>\n",
       "      <td>0</td>\n",
       "      <td>3.983220</td>\n",
       "      <td>3.966060</td>\n",
       "      <td>0.096700</td>\n",
       "      <td>00:02</td>\n",
       "    </tr>\n",
       "    <tr>\n",
       "      <td>1</td>\n",
       "      <td>4.043913</td>\n",
       "      <td>2.694285</td>\n",
       "      <td>0.092500</td>\n",
       "      <td>00:02</td>\n",
       "    </tr>\n",
       "    <tr>\n",
       "      <td>2</td>\n",
       "      <td>3.698680</td>\n",
       "      <td>2.298090</td>\n",
       "      <td>0.102700</td>\n",
       "      <td>00:02</td>\n",
       "    </tr>\n",
       "    <tr>\n",
       "      <td>3</td>\n",
       "      <td>3.372990</td>\n",
       "      <td>2.348976</td>\n",
       "      <td>0.212100</td>\n",
       "      <td>00:02</td>\n",
       "    </tr>\n",
       "    <tr>\n",
       "      <td>4</td>\n",
       "      <td>3.066770</td>\n",
       "      <td>2.448912</td>\n",
       "      <td>0.155700</td>\n",
       "      <td>00:02</td>\n",
       "    </tr>\n",
       "    <tr>\n",
       "      <td>5</td>\n",
       "      <td>2.776098</td>\n",
       "      <td>2.243555</td>\n",
       "      <td>0.174200</td>\n",
       "      <td>00:02</td>\n",
       "    </tr>\n",
       "    <tr>\n",
       "      <td>6</td>\n",
       "      <td>2.534087</td>\n",
       "      <td>1.828253</td>\n",
       "      <td>0.339700</td>\n",
       "      <td>00:02</td>\n",
       "    </tr>\n",
       "    <tr>\n",
       "      <td>7</td>\n",
       "      <td>2.344788</td>\n",
       "      <td>1.832147</td>\n",
       "      <td>0.294000</td>\n",
       "      <td>00:02</td>\n",
       "    </tr>\n",
       "    <tr>\n",
       "      <td>8</td>\n",
       "      <td>2.201845</td>\n",
       "      <td>1.831606</td>\n",
       "      <td>0.276500</td>\n",
       "      <td>00:02</td>\n",
       "    </tr>\n",
       "    <tr>\n",
       "      <td>9</td>\n",
       "      <td>2.073164</td>\n",
       "      <td>1.747288</td>\n",
       "      <td>0.342400</td>\n",
       "      <td>00:02</td>\n",
       "    </tr>\n",
       "  </tbody>\n",
       "</table>"
      ],
      "text/plain": [
       "<IPython.core.display.HTML object>"
      ]
     },
     "metadata": {},
     "output_type": "display_data"
    }
   ],
   "source": [
    "learner.fit_one_cycle(10, lr_max=3e-2)"
   ]
  },
  {
   "cell_type": "markdown",
   "metadata": {
    "id": "Hnj4tGuOTryD"
   },
   "source": [
    "> Tip: Unfreeze the model after calibrating the new head with the transferred body, and train a little more!"
   ]
  },
  {
   "cell_type": "code",
   "execution_count": 44,
   "metadata": {
    "ExecuteTime": {
     "end_time": "2021-03-10T23:33:02.523201Z",
     "start_time": "2021-03-10T23:33:02.520009Z"
    },
    "id": "vgunITCVTryD"
   },
   "outputs": [],
   "source": [
    "learner.unfreeze()"
   ]
  },
  {
   "cell_type": "code",
   "execution_count": 45,
   "metadata": {
    "ExecuteTime": {
     "end_time": "2021-03-10T23:33:02.554162Z",
     "start_time": "2021-03-10T23:33:02.524646Z"
    },
    "id": "nGFfRdLWTryE",
    "outputId": "6b6576c6-b603-444e-a5a9-dc8820ac1b54"
   },
   "outputs": [
    {
     "data": {
      "text/html": [],
      "text/plain": [
       "<IPython.core.display.HTML object>"
      ]
     },
     "metadata": {},
     "output_type": "display_data"
    },
    {
     "data": {
      "text/plain": [
       "Sequential (Input shape: 64 x 1 x 32 x 32)\n",
       "============================================================================\n",
       "Layer (type)         Output Shape         Param #    Trainable \n",
       "============================================================================\n",
       "                     64 x 4 x 30 x 30    \n",
       "Conv2d                                    40         True      \n",
       "BatchNorm2d                               8          True      \n",
       "ReLU                                                           \n",
       "____________________________________________________________________________\n",
       "                     64 x 16 x 28 x 28   \n",
       "Conv2d                                    592        True      \n",
       "BatchNorm2d                               32         True      \n",
       "ReLU                                                           \n",
       "____________________________________________________________________________\n",
       "                     64 x 32 x 26 x 26   \n",
       "Conv2d                                    4640       True      \n",
       "BatchNorm2d                               64         True      \n",
       "____________________________________________________________________________\n",
       "                     64 x 32 x 1 x 1     \n",
       "AdaptiveAvgPool2d                                              \n",
       "AdaptiveMaxPool2d                                              \n",
       "____________________________________________________________________________\n",
       "                     64 x 64             \n",
       "Flatten                                                        \n",
       "BatchNorm1d                               128        True      \n",
       "Dropout                                                        \n",
       "____________________________________________________________________________\n",
       "                     64 x 10             \n",
       "Linear                                    640        True      \n",
       "____________________________________________________________________________\n",
       "\n",
       "Total params: 6,144\n",
       "Total trainable params: 6,144\n",
       "Total non-trainable params: 0\n",
       "\n",
       "Optimizer used: <function Adam at 0x000001BF07FB7670>\n",
       "Loss function: FlattenedLoss of CrossEntropyLoss()\n",
       "\n",
       "Model unfrozen\n",
       "\n",
       "Callbacks:\n",
       "  - TrainEvalCallback\n",
       "  - Recorder\n",
       "  - ProgressCallback"
      ]
     },
     "execution_count": 45,
     "metadata": {},
     "output_type": "execute_result"
    }
   ],
   "source": [
    "learner.summary()"
   ]
  },
  {
   "cell_type": "code",
   "execution_count": 46,
   "metadata": {
    "ExecuteTime": {
     "end_time": "2021-03-10T23:33:24.154098Z",
     "start_time": "2021-03-10T23:33:02.555750Z"
    },
    "id": "7vN4TXLrTryF",
    "outputId": "8d4c9a15-c4b0-407f-f776-fba1267eec25"
   },
   "outputs": [
    {
     "data": {
      "text/html": [],
      "text/plain": [
       "<IPython.core.display.HTML object>"
      ]
     },
     "metadata": {},
     "output_type": "display_data"
    },
    {
     "data": {
      "text/plain": [
       "SuggestedLRs(valley=0.0030199517495930195)"
      ]
     },
     "execution_count": 46,
     "metadata": {},
     "output_type": "execute_result"
    },
    {
     "data": {
      "image/png": "[encoded data removed]",
      "text/plain": [
       "<Figure size 432x288 with 1 Axes>"
      ]
     },
     "metadata": {
      "needs_background": "light"
     },
     "output_type": "display_data"
    }
   ],
   "source": [
    "learner.lr_find()"
   ]
  },
  {
   "cell_type": "code",
   "execution_count": 47,
   "metadata": {
    "ExecuteTime": {
     "end_time": "2021-03-10T23:33:34.334222Z",
     "start_time": "2021-03-10T23:33:24.155898Z"
    },
    "id": "xgkkf53ATryF",
    "outputId": "8a998ec8-702b-46ba-884f-84c46f490fd4"
   },
   "outputs": [
    {
     "data": {
      "text/html": [
       "<table border=\"1\" class=\"dataframe\">\n",
       "  <thead>\n",
       "    <tr style=\"text-align: left;\">\n",
       "      <th>epoch</th>\n",
       "      <th>train_loss</th>\n",
       "      <th>valid_loss</th>\n",
       "      <th>accuracy</th>\n",
       "      <th>time</th>\n",
       "    </tr>\n",
       "  </thead>\n",
       "  <tbody>\n",
       "    <tr>\n",
       "      <td>0</td>\n",
       "      <td>1.203546</td>\n",
       "      <td>1.595100</td>\n",
       "      <td>0.472100</td>\n",
       "      <td>00:02</td>\n",
       "    </tr>\n",
       "  </tbody>\n",
       "</table>"
      ],
      "text/plain": [
       "<IPython.core.display.HTML object>"
      ]
     },
     "metadata": {},
     "output_type": "display_data"
    },
    {
     "data": {
      "text/html": [
       "<table border=\"1\" class=\"dataframe\">\n",
       "  <thead>\n",
       "    <tr style=\"text-align: left;\">\n",
       "      <th>epoch</th>\n",
       "      <th>train_loss</th>\n",
       "      <th>valid_loss</th>\n",
       "      <th>accuracy</th>\n",
       "      <th>time</th>\n",
       "    </tr>\n",
       "  </thead>\n",
       "  <tbody>\n",
       "    <tr>\n",
       "      <td>0</td>\n",
       "      <td>1.139515</td>\n",
       "      <td>1.518108</td>\n",
       "      <td>0.532700</td>\n",
       "      <td>00:02</td>\n",
       "    </tr>\n",
       "    <tr>\n",
       "      <td>1</td>\n",
       "      <td>1.178870</td>\n",
       "      <td>1.428170</td>\n",
       "      <td>0.590200</td>\n",
       "      <td>00:02</td>\n",
       "    </tr>\n",
       "    <tr>\n",
       "      <td>2</td>\n",
       "      <td>1.097698</td>\n",
       "      <td>1.344938</td>\n",
       "      <td>0.625300</td>\n",
       "      <td>00:02</td>\n",
       "    </tr>\n",
       "    <tr>\n",
       "      <td>3</td>\n",
       "      <td>1.044257</td>\n",
       "      <td>1.279844</td>\n",
       "      <td>0.649800</td>\n",
       "      <td>00:01</td>\n",
       "    </tr>\n",
       "    <tr>\n",
       "      <td>4</td>\n",
       "      <td>1.036695</td>\n",
       "      <td>1.239927</td>\n",
       "      <td>0.666600</td>\n",
       "      <td>00:02</td>\n",
       "    </tr>\n",
       "  </tbody>\n",
       "</table>"
      ],
      "text/plain": [
       "<IPython.core.display.HTML object>"
      ]
     },
     "metadata": {},
     "output_type": "display_data"
    }
   ],
   "source": [
    "learner.fine_tune(5, base_lr=3e-2)"
   ]
  },
  {
   "cell_type": "markdown",
   "metadata": {
    "id": "yUk_BLQhTryF"
   },
   "source": [
    "> Important: We were able to get 60.6% accuracy using transfer learning from our pretraining on the rotation prediction task!"
   ]
  },
  {
   "cell_type": "markdown",
   "metadata": {
    "id": "UDqktL1ITryF"
   },
   "source": [
    "# FastAI Vision Learner [From Sratch-Classification]"
   ]
  },
  {
   "cell_type": "markdown",
   "metadata": {
    "id": "0MRU-GS5TryF"
   },
   "source": [
    "Here we train a model from scratch on the original 180 labeled data."
   ]
  },
  {
   "cell_type": "code",
   "execution_count": 48,
   "metadata": {
    "ExecuteTime": {
     "end_time": "2021-03-10T23:33:34.348812Z",
     "start_time": "2021-03-10T23:33:34.339252Z"
    },
    "id": "uzkluGn_TryF",
    "outputId": "ff2771f7-3bd8-4442-c96d-9af9b5f7e331"
   },
   "outputs": [
    {
     "data": {
      "text/plain": [
       "Sequential(\n",
       "  (0): Sequential(\n",
       "    (0): Conv2d(1, 4, kernel_size=(3, 3), stride=(1, 1))\n",
       "    (1): BatchNorm2d(4, eps=1e-05, momentum=0.1, affine=True, track_running_stats=True)\n",
       "    (2): ReLU()\n",
       "    (3): Conv2d(4, 16, kernel_size=(3, 3), stride=(1, 1))\n",
       "    (4): BatchNorm2d(16, eps=1e-05, momentum=0.1, affine=True, track_running_stats=True)\n",
       "    (5): ReLU()\n",
       "    (6): Conv2d(16, 32, kernel_size=(3, 3), stride=(1, 1))\n",
       "    (7): BatchNorm2d(32, eps=1e-05, momentum=0.1, affine=True, track_running_stats=True)\n",
       "  )\n",
       "  (1): Sequential(\n",
       "    (0): AdaptiveConcatPool2d(\n",
       "      (ap): AdaptiveAvgPool2d(output_size=1)\n",
       "      (mp): AdaptiveMaxPool2d(output_size=1)\n",
       "    )\n",
       "    (1): Flatten(full=False)\n",
       "    (2): BatchNorm1d(64, eps=1e-05, momentum=0.1, affine=True, track_running_stats=True)\n",
       "    (3): Dropout(p=0.5, inplace=False)\n",
       "    (4): Linear(in_features=64, out_features=10, bias=False)\n",
       "  )\n",
       ")"
      ]
     },
     "execution_count": 48,
     "metadata": {},
     "output_type": "execute_result"
    }
   ],
   "source": [
    "#collapse-show\n",
    "# pretrained=False, Create the same model as before, but without using the rotation pretraining weights!\n",
    "learner = cnn_learner(dls,\n",
    "                      simple_arch,\n",
    "                      pretrained=False,\n",
    "                      loss_func=CrossEntropyLossFlat(),\n",
    "                      custom_head=classification_head,\n",
    "                      metrics=[accuracy])\n",
    "\n",
    "learner.model"
   ]
  },
  {
   "cell_type": "code",
   "execution_count": 49,
   "metadata": {
    "ExecuteTime": {
     "end_time": "2021-03-10T23:33:34.380621Z",
     "start_time": "2021-03-10T23:33:34.350685Z"
    },
    "id": "SZluFY2oTryF",
    "outputId": "5e3f254c-c200-44b1-ae51-600e871a3f71",
    "scrolled": true
   },
   "outputs": [
    {
     "data": {
      "text/html": [],
      "text/plain": [
       "<IPython.core.display.HTML object>"
      ]
     },
     "metadata": {},
     "output_type": "display_data"
    },
    {
     "data": {
      "text/plain": [
       "Sequential (Input shape: 64 x 1 x 32 x 32)\n",
       "============================================================================\n",
       "Layer (type)         Output Shape         Param #    Trainable \n",
       "============================================================================\n",
       "                     64 x 4 x 30 x 30    \n",
       "Conv2d                                    40         True      \n",
       "BatchNorm2d                               8          True      \n",
       "ReLU                                                           \n",
       "____________________________________________________________________________\n",
       "                     64 x 16 x 28 x 28   \n",
       "Conv2d                                    592        True      \n",
       "BatchNorm2d                               32         True      \n",
       "ReLU                                                           \n",
       "____________________________________________________________________________\n",
       "                     64 x 32 x 26 x 26   \n",
       "Conv2d                                    4640       True      \n",
       "BatchNorm2d                               64         True      \n",
       "____________________________________________________________________________\n",
       "                     64 x 32 x 1 x 1     \n",
       "AdaptiveAvgPool2d                                              \n",
       "AdaptiveMaxPool2d                                              \n",
       "____________________________________________________________________________\n",
       "                     64 x 64             \n",
       "Flatten                                                        \n",
       "BatchNorm1d                               128        True      \n",
       "Dropout                                                        \n",
       "____________________________________________________________________________\n",
       "                     64 x 10             \n",
       "Linear                                    640        True      \n",
       "____________________________________________________________________________\n",
       "\n",
       "Total params: 6,144\n",
       "Total trainable params: 6,144\n",
       "Total non-trainable params: 0\n",
       "\n",
       "Optimizer used: <function Adam at 0x000001BF07FB7670>\n",
       "Loss function: FlattenedLoss of CrossEntropyLoss()\n",
       "\n",
       "Callbacks:\n",
       "  - TrainEvalCallback\n",
       "  - Recorder\n",
       "  - ProgressCallback"
      ]
     },
     "execution_count": 49,
     "metadata": {},
     "output_type": "execute_result"
    }
   ],
   "source": [
    "learner.summary()"
   ]
  },
  {
   "cell_type": "code",
   "execution_count": 50,
   "metadata": {
    "ExecuteTime": {
     "end_time": "2021-03-10T23:33:55.922396Z",
     "start_time": "2021-03-10T23:33:34.382215Z"
    },
    "id": "Zmxvv7LfTryG",
    "outputId": "6aa0246c-2332-40ae-f189-5ef3334a083c",
    "scrolled": true
   },
   "outputs": [
    {
     "data": {
      "text/html": [],
      "text/plain": [
       "<IPython.core.display.HTML object>"
      ]
     },
     "metadata": {},
     "output_type": "display_data"
    },
    {
     "data": {
      "text/plain": [
       "SuggestedLRs(valley=0.001737800776027143)"
      ]
     },
     "execution_count": 50,
     "metadata": {},
     "output_type": "execute_result"
    },
    {
     "data": {
      "image/png": "[encoded data removed]",
      "text/plain": [
       "<Figure size 432x288 with 1 Axes>"
      ]
     },
     "metadata": {
      "needs_background": "light"
     },
     "output_type": "display_data"
    }
   ],
   "source": [
    "learner.lr_find()"
   ]
  },
  {
   "cell_type": "code",
   "execution_count": 51,
   "metadata": {
    "ExecuteTime": {
     "end_time": "2021-03-10T23:34:12.533913Z",
     "start_time": "2021-03-10T23:33:55.924291Z"
    },
    "id": "MYoK6Rw_TryG",
    "outputId": "a3bd6daa-ef8a-4fd6-8dd3-9f4174c39e0e"
   },
   "outputs": [
    {
     "data": {
      "text/html": [
       "<table border=\"1\" class=\"dataframe\">\n",
       "  <thead>\n",
       "    <tr style=\"text-align: left;\">\n",
       "      <th>epoch</th>\n",
       "      <th>train_loss</th>\n",
       "      <th>valid_loss</th>\n",
       "      <th>accuracy</th>\n",
       "      <th>time</th>\n",
       "    </tr>\n",
       "  </thead>\n",
       "  <tbody>\n",
       "    <tr>\n",
       "      <td>0</td>\n",
       "      <td>3.620842</td>\n",
       "      <td>8.403188</td>\n",
       "      <td>0.095800</td>\n",
       "      <td>00:02</td>\n",
       "    </tr>\n",
       "    <tr>\n",
       "      <td>1</td>\n",
       "      <td>2.965809</td>\n",
       "      <td>6.965024</td>\n",
       "      <td>0.095800</td>\n",
       "      <td>00:02</td>\n",
       "    </tr>\n",
       "    <tr>\n",
       "      <td>2</td>\n",
       "      <td>2.619823</td>\n",
       "      <td>4.851040</td>\n",
       "      <td>0.195800</td>\n",
       "      <td>00:02</td>\n",
       "    </tr>\n",
       "    <tr>\n",
       "      <td>3</td>\n",
       "      <td>2.401922</td>\n",
       "      <td>6.368920</td>\n",
       "      <td>0.113500</td>\n",
       "      <td>00:02</td>\n",
       "    </tr>\n",
       "    <tr>\n",
       "      <td>4</td>\n",
       "      <td>2.197757</td>\n",
       "      <td>8.566344</td>\n",
       "      <td>0.113500</td>\n",
       "      <td>00:02</td>\n",
       "    </tr>\n",
       "    <tr>\n",
       "      <td>5</td>\n",
       "      <td>2.044650</td>\n",
       "      <td>10.258311</td>\n",
       "      <td>0.113500</td>\n",
       "      <td>00:02</td>\n",
       "    </tr>\n",
       "    <tr>\n",
       "      <td>6</td>\n",
       "      <td>1.912052</td>\n",
       "      <td>10.763972</td>\n",
       "      <td>0.113500</td>\n",
       "      <td>00:02</td>\n",
       "    </tr>\n",
       "    <tr>\n",
       "      <td>7</td>\n",
       "      <td>1.817624</td>\n",
       "      <td>10.316189</td>\n",
       "      <td>0.113500</td>\n",
       "      <td>00:02</td>\n",
       "    </tr>\n",
       "    <tr>\n",
       "      <td>8</td>\n",
       "      <td>1.710081</td>\n",
       "      <td>10.014054</td>\n",
       "      <td>0.113500</td>\n",
       "      <td>00:02</td>\n",
       "    </tr>\n",
       "    <tr>\n",
       "      <td>9</td>\n",
       "      <td>1.624749</td>\n",
       "      <td>9.580349</td>\n",
       "      <td>0.113700</td>\n",
       "      <td>00:02</td>\n",
       "    </tr>\n",
       "  </tbody>\n",
       "</table>"
      ],
      "text/plain": [
       "<IPython.core.display.HTML object>"
      ]
     },
     "metadata": {},
     "output_type": "display_data"
    }
   ],
   "source": [
    "learner.fit_one_cycle(10, lr_max=3e-2)"
   ]
  },
  {
   "cell_type": "markdown",
   "metadata": {
    "id": "aPcFOe5XTryG"
   },
   "source": [
    "> Important: We were able to only get 10.3% accuracy with training from scratch"
   ]
  },
  {
   "cell_type": "markdown",
   "metadata": {
    "id": "7bQBVMDVTryG"
   },
   "source": [
    "# Conclusion"
   ]
  },
  {
   "cell_type": "markdown",
   "metadata": {
    "id": "VhQdjIASTryG"
   },
   "source": [
    "> Important: Using self-supervision can help learn features that can transfer to a down-stream task, such as classification! In this example, we used rotation predication as our pretext task for feature representation learning. Pretraining our model on rotation prediction prior to training for classification allowed us to achieve 60.6% accuracy, on just 0.3% of the labeled data (180 samples)! Training from scratch with the same amount of data yields an accuracy of 10.3%. The motivation for using self-supervised learning is the ability to train models with decent accuracy without the need of much labeled data!"
   ]
  },
  {
   "cell_type": "markdown",
   "metadata": {
    "id": "hxL-6xXWTryG"
   },
   "source": [
    "> Note: Be sure to try other self-supervised learning methods (or perhaps find your own!) and compete on the [ImageWang Leadboard](https://github.com/fastai/imagenette#image%E7%BD%91-leaderboard)! How will model size, data difficultly, and dataset size (number of samples) affect self-supervised learning?"
   ]
  }
 ],
 "metadata": {
  "colab": {
   "name": "2020-03-23-Self-Supervision-with-FastAI.ipynb",
   "provenance": []
  },
  "kernelspec": {
   "display_name": "Python 3 (ipykernel)",
   "language": "python",
   "name": "python3"
  },
  "language_info": {
   "codemirror_mode": {
    "name": "ipython",
    "version": 3
   },
   "file_extension": ".py",
   "mimetype": "text/x-python",
   "name": "python",
   "nbconvert_exporter": "python",
   "pygments_lexer": "ipython3",
   "version": "3.9.8"
  }
 },
 "nbformat": 4,
 "nbformat_minor": 1
}
