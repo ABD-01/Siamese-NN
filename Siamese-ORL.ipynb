{
  "nbformat": 4,
  "nbformat_minor": 0,
  "metadata": {
    "colab": {
      "name": "Siamese-ORL.ipynb",
      "provenance": [],
      "collapsed_sections": [],
      "authorship_tag": "ABX9TyNDp4yWQ8Faze3w14VONzMj",
      "include_colab_link": true
    },
    "kernelspec": {
      "name": "python3",
      "display_name": "Python 3"
    }
  },
  "cells": [
    {
      "cell_type": "markdown",
      "metadata": {
        "id": "view-in-github",
        "colab_type": "text"
      },
      "source": [
        "<a href=\"https://colab.research.google.com/github/ABD-01/Siamese-Triplet/blob/master/Siamese-ORL.ipynb\" target=\"_parent\"><img src=\"https://colab.research.google.com/assets/colab-badge.svg\" alt=\"Open In Colab\"/></a>"
      ]
    },
    {
      "cell_type": "code",
      "metadata": {
        "id": "QtpcSxxQhz4O"
      },
      "source": [
        "# This Python 3 environment comes with many helpful analytics libraries installed\r\n",
        "# It is defined by the kaggle/python Docker image: https://github.com/kaggle/docker-python\r\n",
        "# For example, here's several helpful packages to load\r\n",
        "\r\n",
        "import numpy as np # linear algebra\r\n",
        "import pandas as pd # data processing, CSV file I/O (e.g. pd.read_csv)\r\n",
        "\r\n",
        "# Input data files are available in the read-only \"../input/\" directory\r\n",
        "# For example, running this (by clicking run or pressing Shift+Enter) will list all files under the input directory\r\n",
        "\r\n",
        "import os\r\n",
        "for dirname, _, filenames in os.walk('/kaggle/input'):\r\n",
        "    for filename in filenames:\r\n",
        "        print(os.path.join(dirname, filename))\r\n",
        "\r\n",
        "# You can write up to 20GB to the current directory (/kaggle/working/) that gets preserved as output when you create a version using \"Save & Run All\" \r\n",
        "# You can also write temporary files to /kaggle/temp/, but they won't be saved outside of the current session"
      ],
      "execution_count": null,
      "outputs": []
    },
    {
      "cell_type": "code",
      "metadata": {
        "id": "6xgN3JriVIl7"
      },
      "source": [
        "img = open('/kaggle/input/att-database-of-faces/s12/5.pgm')"
      ],
      "execution_count": null,
      "outputs": []
    },
    {
      "cell_type": "code",
      "metadata": {
        "id": "8JsEVIsaVMak"
      },
      "source": [
        "img"
      ],
      "execution_count": null,
      "outputs": []
    },
    {
      "cell_type": "code",
      "metadata": {
        "id": "8mq2sxQGVNfg"
      },
      "source": [
        "import matplotlib.pyplot as plt\r\n",
        "from PIL import Image"
      ],
      "execution_count": null,
      "outputs": []
    },
    {
      "cell_type": "code",
      "metadata": {
        "id": "YMpO0bI_VObA"
      },
      "source": [
        "img = np.asarray(Image.open('/kaggle/input/att-database-of-faces/s12/5.pgm'))"
      ],
      "execution_count": null,
      "outputs": []
    },
    {
      "cell_type": "code",
      "metadata": {
        "id": "Bis3F3DQVPx8"
      },
      "source": [
        "plt.imshow(img, cmap='gray')"
      ],
      "execution_count": null,
      "outputs": []
    },
    {
      "cell_type": "code",
      "metadata": {
        "id": "hKab74OqVQnH"
      },
      "source": [
        "import torch\r\n",
        "import torchvision.transforms as transforms"
      ],
      "execution_count": null,
      "outputs": []
    },
    {
      "cell_type": "code",
      "metadata": {
        "id": "15HF-uSqVRm2"
      },
      "source": [
        "img = Image.open('/kaggle/input/att-database-of-faces/s12/5.pgm')"
      ],
      "execution_count": null,
      "outputs": []
    },
    {
      "cell_type": "code",
      "metadata": {
        "id": "tM1OASqeVSkE"
      },
      "source": [
        "type(img)"
      ],
      "execution_count": null,
      "outputs": []
    },
    {
      "cell_type": "code",
      "metadata": {
        "id": "2_QmXUSNVTdJ"
      },
      "source": [
        "trans = transforms.ToTensor()\r\n",
        "imgt = trans(img)"
      ],
      "execution_count": null,
      "outputs": []
    },
    {
      "cell_type": "code",
      "metadata": {
        "id": "qXT7vNi3VVd3"
      },
      "source": [
        "imgt.shape"
      ],
      "execution_count": null,
      "outputs": []
    },
    {
      "cell_type": "code",
      "metadata": {
        "id": "wliZ8tbJVWw3"
      },
      "source": [
        "plt.imshow(imgt.squeeze(), cmap=\"gray\")"
      ],
      "execution_count": null,
      "outputs": []
    },
    {
      "cell_type": "code",
      "metadata": {
        "id": "9P6oFAzwVXjf"
      },
      "source": [
        "import glob"
      ],
      "execution_count": null,
      "outputs": []
    },
    {
      "cell_type": "code",
      "metadata": {
        "id": "DYg0wEANVbMQ"
      },
      "source": [
        ""
      ],
      "execution_count": null,
      "outputs": []
    },
    {
      "cell_type": "code",
      "metadata": {
        "id": "wLk9khT8VdhL"
      },
      "source": [
        "files = [glob.glob(f'/kaggle/input/att-database-of-faces/s{i+1}/*') for i in range(40)] "
      ],
      "execution_count": null,
      "outputs": []
    },
    {
      "cell_type": "code",
      "metadata": {
        "id": "TgdceKunVfbm"
      },
      "source": [
        "images = [Image.open(image) for image in glob.glob(f'/kaggle/input/att-database-of-faces/s{0+1}/*')]"
      ],
      "execution_count": null,
      "outputs": []
    },
    {
      "cell_type": "code",
      "metadata": {
        "id": "Km7ODhsjVgKE"
      },
      "source": [
        "len(files[0])"
      ],
      "execution_count": null,
      "outputs": []
    },
    {
      "cell_type": "code",
      "metadata": {
        "id": "2g7CXBajVhlp"
      },
      "source": [
        "images[9]\r\n"
      ],
      "execution_count": null,
      "outputs": []
    },
    {
      "cell_type": "code",
      "metadata": {
        "id": "CkIujNBvViaD"
      },
      "source": [
        "from torch.utils.data import Dataset, DataLoader"
      ],
      "execution_count": null,
      "outputs": []
    },
    {
      "cell_type": "code",
      "metadata": {
        "id": "nJH1w_y6VkWI"
      },
      "source": [
        "class CustomDataset(Dataset):\r\n",
        "    def __init__(self, path, transform=None):\r\n",
        "        self.path = path\r\n",
        "        self.transform = transform\r\n",
        "        files = [glob.glob(f'{self.path}s{i+1}/*') for i in range(40)] \r\n",
        "        \r\n",
        "    def __len__(self):\r\n",
        "        return"
      ],
      "execution_count": null,
      "outputs": []
    }
  ]
}