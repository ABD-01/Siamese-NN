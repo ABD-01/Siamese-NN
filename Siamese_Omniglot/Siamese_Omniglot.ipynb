{
 "cells": [
  {
   "cell_type": "code",
   "execution_count": 1,
   "metadata": {
    "id": "RHSJ00-H7S7d"
   },
   "outputs": [],
   "source": [
    "import random\n",
    "import numpy as np\n",
    "import matplotlib.pyplot as plt"
   ]
  },
  {
   "cell_type": "code",
   "execution_count": 2,
   "metadata": {
    "colab": {
     "base_uri": "https://localhost:8080/"
    },
    "id": "5CAiiReW7tqF",
    "outputId": "d23627d2-67c8-4156-a5fe-b96cce226571"
   },
   "outputs": [
    {
     "name": "stdout",
     "output_type": "stream",
     "text": [
      "--2021-06-05 16:10:02--  https://github.com/brendenlake/omniglot/raw/master/python/images_background.zip\n",
      "Resolving github.com (github.com)... 192.30.255.112\n",
      "Connecting to github.com (github.com)|192.30.255.112|:443... connected.\n",
      "HTTP request sent, awaiting response... 302 Found\n",
      "Location: https://raw.githubusercontent.com/brendenlake/omniglot/master/python/images_background.zip [following]\n",
      "--2021-06-05 16:10:02--  https://raw.githubusercontent.com/brendenlake/omniglot/master/python/images_background.zip\n",
      "Resolving raw.githubusercontent.com (raw.githubusercontent.com)... 185.199.110.133, 185.199.108.133, 185.199.111.133, ...\n",
      "Connecting to raw.githubusercontent.com (raw.githubusercontent.com)|185.199.110.133|:443... connected.\n",
      "HTTP request sent, awaiting response... 200 OK\n",
      "Length: 9464212 (9.0M) [application/zip]\n",
      "Saving to: ‘images_background.zip’\n",
      "\n",
      "images_background.z 100%[===================>]   9.03M  28.2MB/s    in 0.3s    \n",
      "\n",
      "2021-06-05 16:10:04 (28.2 MB/s) - ‘images_background.zip’ saved [9464212/9464212]\n",
      "\n"
     ]
    }
   ],
   "source": [
    "!wget https://github.com/brendenlake/omniglot/raw/master/python/images_background.zip"
   ]
  },
  {
   "cell_type": "code",
   "execution_count": 3,
   "metadata": {
    "colab": {
     "base_uri": "https://localhost:8080/"
    },
    "id": "tGjmHB7T8DGS",
    "outputId": "2dc82629-a5c4-48a7-8c46-3563a4b8b26b"
   },
   "outputs": [
    {
     "name": "stdout",
     "output_type": "stream",
     "text": [
      "--2021-06-05 16:10:25--  https://github.com/brendenlake/omniglot/raw/master/python/images_evaluation.zip\n",
      "Resolving github.com (github.com)... 192.30.255.113\n",
      "Connecting to github.com (github.com)|192.30.255.113|:443... connected.\n",
      "HTTP request sent, awaiting response... 302 Found\n",
      "Location: https://raw.githubusercontent.com/brendenlake/omniglot/master/python/images_evaluation.zip [following]\n",
      "--2021-06-05 16:10:25--  https://raw.githubusercontent.com/brendenlake/omniglot/master/python/images_evaluation.zip\n",
      "Resolving raw.githubusercontent.com (raw.githubusercontent.com)... 185.199.108.133, 185.199.109.133, 185.199.110.133, ...\n",
      "Connecting to raw.githubusercontent.com (raw.githubusercontent.com)|185.199.108.133|:443... connected.\n",
      "HTTP request sent, awaiting response... 200 OK\n",
      "Length: 6462886 (6.2M) [application/zip]\n",
      "Saving to: ‘images_evaluation.zip’\n",
      "\n",
      "images_evaluation.z 100%[===================>]   6.16M  23.9MB/s    in 0.3s    \n",
      "\n",
      "2021-06-05 16:10:26 (23.9 MB/s) - ‘images_evaluation.zip’ saved [6462886/6462886]\n",
      "\n"
     ]
    }
   ],
   "source": [
    "!wget https://github.com/brendenlake/omniglot/raw/master/python/images_evaluation.zip"
   ]
  },
  {
   "cell_type": "code",
   "execution_count": 26,
   "metadata": {
    "id": "0VWyy9Aw8syq"
   },
   "outputs": [],
   "source": [
    "from torchvision.datasets import ImageFolder, DatasetFolder, Omniglot"
   ]
  },
  {
   "cell_type": "code",
   "execution_count": 58,
   "metadata": {
    "id": "VmYXei8OTHmz"
   },
   "outputs": [],
   "source": [
    "from torch.utils.data import DataLoader"
   ]
  },
  {
   "cell_type": "code",
   "execution_count": 60,
   "metadata": {
    "id": "4g6WF0FLTUcH"
   },
   "outputs": [],
   "source": [
    "import torchvision.transforms as transforms"
   ]
  },
  {
   "cell_type": "code",
   "execution_count": 61,
   "metadata": {
    "colab": {
     "base_uri": "https://localhost:8080/"
    },
    "id": "Yc8m1JMKBstC",
    "outputId": "5197f1f3-89fb-4397-f7b0-c5beaacc8773"
   },
   "outputs": [
    {
     "name": "stdout",
     "output_type": "stream",
     "text": [
      "Files already downloaded and verified\n"
     ]
    }
   ],
   "source": [
    "#mean, std = (tensor(0.9221), tensor(0.2681))\n",
    "train = Omniglot(root=\"\", download=True, transform=transforms.ToTensor())"
   ]
  },
  {
   "cell_type": "code",
   "execution_count": 62,
   "metadata": {
    "colab": {
     "base_uri": "https://localhost:8080/"
    },
    "id": "0Ute5F9GLLXw",
    "outputId": "9d5fa2a7-1f7b-4125-ba8b-6dd75de7d17b"
   },
   "outputs": [
    {
     "data": {
      "text/plain": [
       "Dataset Omniglot\n",
       "    Number of datapoints: 19280\n",
       "    Root location: omniglot-py\n",
       "    StandardTransform\n",
       "Transform: ToTensor()"
      ]
     },
     "execution_count": 62,
     "metadata": {
      "tags": []
     },
     "output_type": "execute_result"
    }
   ],
   "source": [
    "train"
   ]
  },
  {
   "cell_type": "code",
   "execution_count": 63,
   "metadata": {
    "colab": {
     "base_uri": "https://localhost:8080/"
    },
    "id": "UHjceHOaBsp1",
    "outputId": "57f07b70-f888-4617-ca99-76dcaa7356d3"
   },
   "outputs": [
    {
     "name": "stdout",
     "output_type": "stream",
     "text": [
      "Files already downloaded and verified\n"
     ]
    }
   ],
   "source": [
    "#mean, std =  (tensor(0.9157), tensor(0.2778))\n",
    "test = Omniglot(root=\"\", background=False, download=True, transform=transforms.ToTensor())"
   ]
  },
  {
   "cell_type": "code",
   "execution_count": 64,
   "metadata": {
    "colab": {
     "base_uri": "https://localhost:8080/"
    },
    "id": "ndmEh2SHTfLc",
    "outputId": "9956d476-90a1-4824-a532-9d6cafeae770"
   },
   "outputs": [
    {
     "data": {
      "text/plain": [
       "Dataset Omniglot\n",
       "    Number of datapoints: 13180\n",
       "    Root location: omniglot-py\n",
       "    StandardTransform\n",
       "Transform: ToTensor()"
      ]
     },
     "execution_count": 64,
     "metadata": {
      "tags": []
     },
     "output_type": "execute_result"
    }
   ],
   "source": [
    "test"
   ]
  },
  {
   "cell_type": "code",
   "execution_count": 7,
   "metadata": {},
   "outputs": [],
   "source": [
    "from PIL import Image\n",
    "from os.path import join\n",
    "from typing import Any, Callable, List, Optional, Tuple"
   ]
  },
  {
   "cell_type": "code",
   "execution_count": 72,
   "metadata": {
    "id": "7uqitKKbaBaq"
   },
   "outputs": [],
   "source": [
    "from torchvision.datasets import VisionDataset"
   ]
  },
  {
   "cell_type": "code",
   "execution_count": 6,
   "metadata": {
    "id": "bO2L0e8scHk_"
   },
   "outputs": [],
   "source": [
    "from torchvision.datasets.utils import download_and_extract_archive, check_integrity, list_dir, list_files"
   ]
  },
  {
   "cell_type": "code",
   "execution_count": null,
   "metadata": {
    "id": "i5eoTfr7bJ3t"
   },
   "outputs": [],
   "source": [
    "class Omniglot(VisionDataset):\n",
    "    \"\"\"`Omniglot <https://github.com/brendenlake/omniglot>`_ Dataset.\n",
    "\n",
    "    Args:\n",
    "        root (string): Root directory of dataset where directory\n",
    "            ``omniglot-py`` exists.\n",
    "        background (bool, optional): If True, creates dataset from the \"background\" set, otherwise\n",
    "            creates from the \"evaluation\" set. This terminology is defined by the authors.\n",
    "        transform (callable, optional): A function/transform that  takes in an PIL image\n",
    "            and returns a transformed version. E.g, ``transforms.RandomCrop``\n",
    "        target_transform (callable, optional): A function/transform that takes in the\n",
    "            target and transforms it.\n",
    "        download (bool, optional): If true, downloads the dataset zip files from the internet and\n",
    "            puts it in root directory. If the zip files are already downloaded, they are not\n",
    "            downloaded again.\n",
    "    \"\"\"\n",
    "    folder = 'omniglot-py'\n",
    "    download_url_prefix = 'https://github.com/brendenlake/omniglot/raw/master/python'\n",
    "    zips_md5 = {\n",
    "        'images_background': '68d2efa1b9178cc56df9314c21c6e718',\n",
    "        'images_evaluation': '6b91aef0f799c5bb55b94e3f2daec811'\n",
    "    }\n",
    "\n",
    "    def __init__(\n",
    "            self,\n",
    "            root: str,\n",
    "            background: bool = True,\n",
    "            transform: Optional[Callable] = None,\n",
    "            target_transform: Optional[Callable] = None,\n",
    "            download: bool = False,\n",
    "    ) -> None:\n",
    "        super(Omniglot, self).__init__(join(root, self.folder), transform=transform,\n",
    "                                       target_transform=target_transform)\n",
    "        self.background = background\n",
    "\n",
    "        if download:\n",
    "            self.download()\n",
    "\n",
    "        if not self._check_integrity():\n",
    "            raise RuntimeError('Dataset not found or corrupted.' +\n",
    "                               ' You can use download=True to download it')\n",
    "\n",
    "        self.target_folder = join(self.root, self._get_target_folder())\n",
    "        self._alphabets = list_dir(self.target_folder)\n",
    "        self._characters: List[str] = sum([[join(a, c) for c in list_dir(join(self.target_folder, a))]\n",
    "                                           for a in self._alphabets], [])\n",
    "        self._character_images = [[(image, idx) for image in list_files(join(self.target_folder, character), '.png')]\n",
    "                                  for idx, character in enumerate(self._characters)]\n",
    "        self._flat_character_images: List[Tuple[str, int]] = sum(self._character_images, [])\n",
    "\n",
    "    def __len__(self) -> int:\n",
    "        return len(self._flat_character_images)\n",
    "\n",
    "    def __getitem__(self, index: int) -> Tuple[Any, Any]:\n",
    "        \"\"\"\n",
    "        Args:\n",
    "            index (int): Index\n",
    "\n",
    "        Returns:\n",
    "            tuple: (image, target) where target is index of the target character class.\n",
    "        \"\"\"\n",
    "        image_name, character_class = self._flat_character_images[index]\n",
    "        image_path = join(self.target_folder, self._characters[character_class], image_name)\n",
    "        image = Image.open(image_path, mode='r').convert('L')\n",
    "\n",
    "        if self.transform:\n",
    "            image = self.transform(image)\n",
    "\n",
    "        if self.target_transform:\n",
    "            character_class = self.target_transform(character_class)\n",
    "\n",
    "        return image, character_class\n",
    "\n",
    "    def _check_integrity(self) -> bool:\n",
    "        zip_filename = self._get_target_folder()\n",
    "        if not check_integrity(join(self.root, zip_filename + '.zip'), self.zips_md5[zip_filename]):\n",
    "            return False\n",
    "        return True\n",
    "\n",
    "    def download(self) -> None:\n",
    "        if self._check_integrity():\n",
    "            print('Files already downloaded and verified')\n",
    "            return\n",
    "\n",
    "        filename = self._get_target_folder()\n",
    "        zip_filename = filename + '.zip'\n",
    "        url = self.download_url_prefix + '/' + zip_filename\n",
    "        download_and_extract_archive(url, self.root, filename=zip_filename, md5=self.zips_md5[filename])\n",
    "\n",
    "    def _get_target_folder(self) -> str:\n",
    "        return 'images_background' if self.background else 'images_evaluation'"
   ]
  },
  {
   "cell_type": "code",
   "execution_count": null,
   "metadata": {
    "id": "8IvhokWDT02M"
   },
   "outputs": [],
   "source": [
    "class OmniglotDataset(VisionDataset):\n",
    "\n",
    "    download_url_prefix = 'https://github.com/brendenlake/omniglot/raw/master/python'\n",
    "    zips_md5 = {\n",
    "        'images_background': '68d2efa1b9178cc56df9314c21c6e718',\n",
    "        'images_evaluation': '6b91aef0f799c5bb55b94e3f2daec811'\n",
    "    }\n",
    "\n",
    "    def __init__(\n",
    "        self,\n",
    "        root: str,\n",
    "        background: bool = True,\n",
    "        transform: Optional[Callable] = None,\n",
    "        target_transform: Optional[Callable] = None,\n",
    "        download: bool = False,\n",
    "    ) -> None:\n",
    "        super(OmniglotDataset, self).__init__(root, transform=transform, target_transform=target_transform)\n",
    "\n",
    "        self.background = background\n",
    "\n",
    "        if download:\n",
    "            self.download()\n",
    "        \n",
    "        if not self._check_integrity():\n",
    "            raise RuntimeError('Dataset not found or corrupted.' +\n",
    "                               ' You can use download=True to download it')\n",
    "        \n",
    "        self.target_folder = join(self.root, self._get_target_folder())\n",
    "        self._alphabets = list_dir(self.target_folder)\n",
    "        self._characters = sum([[join(a, c) for c in list_dir(join(self.target_folder, a))] for a in self._alphabets], [])\n",
    "        self._character_images = \n",
    "        [[(image, idx) for image in list_files(join(self.target_folder, character), '.png')]\n",
    "                                  for idx, character in enumerate(self._characters)]\n",
    "        self._flat_character_images: List[Tuple[str, int]] = sum(self._character_images, [])\n",
    "\n",
    "    def _check_integrity(self) -> bool:\n",
    "        zip_filename = self._get_target_folder()\n",
    "        if not check_integrity(join(self.root, zip_filename + '.zip'), self.zips_md5[zip_filename]):\n",
    "            return False\n",
    "        return True\n",
    "\n",
    "    def download(self) -> None:\n",
    "        if self._check_integrity():\n",
    "            print('Files already downloaded and verified')\n",
    "            return\n",
    "\n",
    "        filename = self._get_target_folder()\n",
    "        zip_filename = filename + '.zip'\n",
    "        url = self.download_url_prefix + '/' + zip_filename\n",
    "        download_and_extract_archive(url, self.root, filename=zip_filename, md5=self.zips_md5[filename])\n",
    "\n",
    "    def _get_target_folder(self) -> str:\n",
    "        return 'images_background' if self.background else 'images_evaluation'"
   ]
  },
  {
   "cell_type": "code",
   "execution_count": 19,
   "metadata": {},
   "outputs": [],
   "source": [
    "a= sum([[1,2,3],[3,4,5],[6,7,8]], [])"
   ]
  },
  {
   "cell_type": "code",
   "execution_count": 20,
   "metadata": {},
   "outputs": [
    {
     "data": {
      "text/plain": [
       "[1, 2, 3, 3, 4, 5, 6, 7, 8]"
      ]
     },
     "execution_count": 20,
     "metadata": {},
     "output_type": "execute_result"
    }
   ],
   "source": [
    "a"
   ]
  },
  {
   "cell_type": "code",
   "execution_count": null,
   "metadata": {},
   "outputs": [],
   "source": []
  }
 ],
 "metadata": {
  "colab": {
   "collapsed_sections": [],
   "name": "Siamese_Omniglot.ipynb",
   "provenance": []
  },
  "kernelspec": {
   "display_name": "Python 3",
   "language": "python",
   "name": "python3"
  },
  "language_info": {
   "codemirror_mode": {
    "name": "ipython",
    "version": 3
   },
   "file_extension": ".py",
   "mimetype": "text/x-python",
   "name": "python",
   "nbconvert_exporter": "python",
   "pygments_lexer": "ipython3",
   "version": "3.8.5"
  }
 },
 "nbformat": 4,
 "nbformat_minor": 1
}
